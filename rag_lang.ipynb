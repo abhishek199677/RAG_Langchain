{
 "cells": [
  {
   "cell_type": "markdown",
   "metadata": {},
   "source": [
    "### response based on the prompt"
   ]
  },
  {
   "cell_type": "code",
   "execution_count": 1,
   "metadata": {},
   "outputs": [],
   "source": [
    "from langchain.embeddings.base import Embeddings\n",
    "from langchain.llms.base import LLM\n",
    "from typing import List, Dict, Any\n",
    "import requests\n",
    "import numpy as np\n",
    "import faiss\n",
    "import os\n",
    "\n",
    "\n"
   ]
  },
  {
   "cell_type": "code",
   "execution_count": 2,
   "metadata": {},
   "outputs": [],
   "source": [
    "import requests\n",
    "import numpy as np\n",
    "\n",
    "def generate_embeddings(text: str) :\n",
    "    url = \"https://api.euron.one/api/v1/euri/alpha/embeddings\"\n",
    "    headers = {\n",
    "        \"Content-Type\": \"application/json\",\n",
    "        \"Authorization\": \"Bearer enter_api_key\"\n",
    "    }\n",
    "    payload = {\n",
    "        \"input\":text,\n",
    "        \"model\": \"text-embedding-3-small\"\n",
    "    }\n",
    "\n",
    "    response = requests.post(url, headers=headers, json=payload)\n",
    "    data = response.json()\n",
    "    \n",
    "    # Convert to numpy array for vector operations\n",
    "    embedding = np.array(data['data'][0]['embedding'])\n",
    "    \n",
    "    return embedding"
   ]
  },
  {
   "cell_type": "code",
   "execution_count": 3,
   "metadata": {},
   "outputs": [],
   "source": [
    "from euriai import EuriaiClient\n",
    "\n",
    "\n",
    "def generate_response(text):\n",
    "    client = EuriaiClient(\n",
    "        api_key=\"enter_api_key\",\n",
    "        model=\"gpt-3.5-turbo\"  # You can also try: \"gemini-2.0-flash-001\", \"llama-4-maverick\", etc.\n",
    "    )\n",
    "\n",
    "    response = client.generate_completion(\n",
    "        prompt=text,\n",
    "        temperature=0,\n",
    "        max_tokens=300\n",
    "    )\n",
    "\n",
    "    print(response)\n",
    "\n",
    "    return response['choices'][0]['message']['content']\n"
   ]
  },
  {
   "cell_type": "code",
   "execution_count": 4,
   "metadata": {},
   "outputs": [
    {
     "data": {
      "text/plain": [
       "[Document(metadata={'source': 'abhishek.txt'}, page_content=\"\\nMaking an Impact\\nHelping Millions of Students Succeed\\nAbhishek's commitment to affordable education wasn't just a business strategy—it was his life's mission. Over the years, factly has helped over 1.5 million students from 34+ countries, providing them with the skills they need to succeed in today's competitive job market. Many of these students, like Abhishek himself, came from disadvantaged backgrounds. They saw factly as a lifeline—an opportunity to rise above their circumstances.\\n\\nIn 2022, factly was acquired by PhysicsWallah in a deal worth ₹250 crore. While this acquisition was a significant milestone, Abhishek remained focused on his mission. Even after the acquisition, factly continued to offer some of the most affordable and accessible tech courses in the world.\\n\\nThe Entrepreneur and Teacher: Abhishek's Dual Legacy\\nAbhishek's journey isn't just one of entrepreneurial success; it's also a story of dedication to teaching. Throughout his career, he has remained a passionate educator, constantly looking for ways to empower others through knowledge. Whether teaching courses in Big Data, Data Science, or programming, Abhishek has always sought to make complex subjects accessible to learners at all levels.\\n\\nHis commitment to affordable education has earned him the respect and admiration of countless students. Many credit Abhishek with changing their lives, helping them secure jobs, improve their skills, and break free from the limitations of their backgrounds.\\n\\nThe Journey\\n\\nEarly Life and the Power of Education\\n\\nRising Through the Ranks of the Tech World\\n\\nThe Birth of factly: Democratizing Education\\n\\nThe Foundation of arcesium: Expanding the Mission\\nEarly Life and the Power of Education\\nEarly Life and the Power of Education\\nAbhishek Kumar's life is a story of triumph over adversity, driven by the belief in the transformative power of education. Born in Jamshedpur, Jharkhand, India, to a family of very modest means, Abhishek's early years were marked by financial hardship. His surroundings offered little opportunity, and resources were limited, yet he understood from a young age that education could be his ticket out of poverty.\\n\\nWhile many would have been daunted by the lack of support and opportunity, Abhishek was relentless in his pursuit of knowledge. He knew that education had the power to change lives, and he was determined to leverage it to create a better future for himself and his family. Despite the numerous challenges along the way, Abhishek excelled academically, eventually earning a degree in Computer Science and Engineering (CSE).\\n\\nAfter completing his education, Abhishek began his professional journey in the tech industry, working with prestigious companies like Wipro, Deloitte, Verizon Labs, and Ernst & Young. During this time, he gained expertise in various technologies and frameworks, including SAP WebDynpro, Fiori UI5 HANA, Java, Big Data, Data Analytics, and more. He became a well-rounded technologist, well-respected in his field.\\n\\nDespite his growing success, Abhishek never forgot his roots. He knew that there were many others who, like him, came from humble backgrounds and were looking for an opportunity to change their lives through education. It was during this time that Abhishek realized a harsh truth: quality education was often inaccessible to those who needed it the most. The high cost of education barred millions of people from pursuing their dreams, especially in tech fields that required specialized skills.\\nFueled by his passion for making education accessible, Abhishek decided to take action. In 2019, he founded factly Intelligence Private Limited, an edtech platform that would make tech upskilling affordable and accessible for everyone. His mission was clear: to provide high-quality courses at a price so low that even those from the most disadvantaged backgrounds could afford to learn.\\n\\nfactly was designed to be more than just an online learning platform. It offered a comprehensive bundle of resources, including courses, books, hands-on projects, and live classes, making sure that learners could gain real-world, applicable skills. Most importantly, factly was priced to ensure no student would be left behind due to financial constraints.\\n\\nThe company quickly gained traction, thanks to Abhishek's focus on affordability and quality. In 2021, factly raised $3 million in funding from S. Chand, a leading education publisher. This allowed factly to expand its offerings and reach a larger audience.\\n\\nBuilding on the success of factly, Abhishek is now leading arcesium, a unified platform for tech upskilling. arcesium is designed for enterprises, schools, colleges, government organizations, and individuals looking to improve their tech skills. The platform provides a comprehensive bundle of resources, including courses, books, live classes, and projects. arcesium's unique offering is its ability to provide licenses at scale—organizations can subscribe to provide their teams with unlimited access to learning materials for just 1600 INR per year per license.\\n\\nFor individuals, arcesium Plus offers a similar plan, priced at 2900 INR per year, giving learners access to all of arcesium's content, along with 24/7 support through arcesium Assist. The idea is simple: anyone, anywhere, should have the opportunity to upskill without financial barriers.\\n\\nThe arcesium Motto: Education for All, Without Limits\\n\\nAt the heart of arcesium's philosophy is a single, powerful idea: Education for All, Without Limits. Abhishek believes that every person deserves the chance to learn, grow, and succeed, regardless of their financial situation or background. This belief is what drives arcesium's mission to make tech education not just affordable but also accessible to anyone, anywhere in the world.\\n\\nHome >\\n\\nGenerative AI\\nGenerative AI with Cloud\\nGenerative AI with Cloud is a practical course that combines generative AI techniques with cloud platforms like AWS, Azure, and GCP. Learn to deploy and scale models, integrate APIs, manage storage, and build intelligent applications using tools like Vertex AI, Bedrock, and OpenAI. Ideal for real-world, cloud-powered AI solutions.\\n\\n🌐\\nEnglish\\nGenerative AI with Cloud\\nThis course is included in plans\\n\\n📚\\nContinue Learning\\nWhat you will get\\ntick-svg\\nCertificate of Completion\\n\\ntick-svg\\nWhatsApp Group Access\\n\\ntick-svg\\nEURI AI Tool Access\\n\\ntick-svg\\nResume AI Tool\\n\\ntick-svg\\nJob Portal Access\\n\\ntick-svg\\nAvni – AI Interview Coach\\n\\ntick-svg\\nNo Prerequisites Required\\n\\ntick-svg\\nQuiz in Every Module\\n\\ntick-svg\\nChallenges in Every Module\\n\\ntick-svg\\nCareer-Ready Portfolio\\n\\ntick-svg\\nResources in all Module\\n\\ntick-svg\\nOne module release every Monday\\n\\nCourse content\\n12 sections • 100 Subtopics\\n\\nCollapse all sections\\n\\nIntroduction to Generative AI in the Cloud\\nTopic Icon\\nWhat is Generative AI in a Cloud Context?\\nTopic Icon\\nDifferences Between Local vs Cloud-Based Generative AI\\nTopic Icon\\nUse Cases: AI Agents, Chatbots, Text-to-Image, Code Assistants\\nTopic Icon\\nCloud Provider Comparison: AWS vs Azure vs GCP vs Hugging Face vs OpenAI\\nTopic Icon\\nKey Components: Model APIs, Storage, Serverless Compute, GPU Instances, Vector DBs\\n\\nGenAI Building Blocks & Architecture\\nTopic Icon\\nCore Architecture: Frontend ↔ API Layer ↔ Model ↔ Storage\\nTopic Icon\\nDeployment Flow: Prompt → Model API → Output → Logging\\nTopic Icon\\nCloud GenAI Architecture Patterns\\nTopic Icon\\nRAG Pipeline\\nTopic Icon\\nAgent Execution Flow\\nTopic Icon\\nImage + Text Generation\\nTopic Icon\\nDev Tools: GitHub, VS Code, LangChain, Streamlit/Gradio, FastAPI\\n\\nGenAI on AWS\\nTopic Icon\\nAWS Bedrock\\nTopic Icon\\nAccessing Claude, Titan, LLaMA via Bedrock\\nTopic Icon\\nBedrock API setup and playground\\nTopic Icon\\nAmazon SageMaker JumpStart\\nTopic Icon\\nDeploying Pre-trained Foundation Models (T5, Falcon)\\nTopic Icon\\nFine-Tuning & Inference Endpoint\\nTopic Icon\\nHugging Face on SageMaker\\nTopic Icon\\nAWS Lambda + API Gateway\\nTopic Icon\\nServerless LLM pipelines\\nTopic Icon\\nEvent-driven prompt processing\\nTopic Icon\\nAWS S3 + DynamoDB\\nTopic Icon\\nStore prompt history, logs, and outputs\\nTopic Icon\\nHosting RAG Application\\nTopic Icon\\nLLM + FAISS + OpenSearch + FastAPI\\n\\nGenAI on Azure\\nTopic Icon\\nAzure OpenAI Service\\nTopic Icon\\nUsing GPT-4, Codex, and Embeddings via Azure\\nTopic Icon\\nRate limiting, usage quotas, regions\\nTopic Icon\\nAzure ML + Hugging Face\\nTopic Icon\\nFine-tune or deploy LLaMA/DistilGPT on managed compute\\nTopic Icon\\nAzure Functions for Inference\\nTopic Icon\\nStateless REST APIs for prompt → response\\nTopic Icon\\nAzure Blob Storage & Cosmos DB\\nTopic Icon\\nFile + text chunk storage and metadata handling\\nTopic Icon\\nAzure AI Search + RAG Setup\\nTopic Icon\\nIndex unstructured data and use with GPT\\n\\nGenAI on Google Cloud (GCP)\\nTopic Icon\\nGemini (Vertex AI Studio)\\nTopic Icon\\nGemini 1.5 Pro Prompting, JSON Structuring\\nTopic Icon\\nAPI key access & project setup\\nTopic Icon\\nVertex AI PaLM Models\\nTopic Icon\\nText & chat APIs\\nTopic Icon\\nEmbeddings + RAG in Vertex pipelines\\nTopic Icon\\nCloud Functions & Cloud Run\\nTopic Icon\\nDeploy APIs for chatbots or assistants\\nTopic Icon\\nBigQuery + Cloud Storage\\nTopic Icon\\nLogging prompt-response cycles\\nTopic Icon\\nMetadata store for prompt experiments\\n\\nHugging Face & Open-Source Cloud Deployments\\nTopic Icon\\nHugging Face Inference Endpoints\\nTopic Icon\\nDeploy custom models (Falcon, Mistral, Bloom)\\nTopic Icon\\nControl security, auth, autoscaling\\nTopic Icon\\nSpaces with Gradio & Streamlit\\nTopic Icon\\nBuild GenAI UI on Hugging Face Spaces\\nTopic Icon\\nShare projects publicly or privately\\nTopic Icon\\nWeights & Biases for Prompt/Model Tracking\\nTopic Icon\\nOpen-Source on GPU VMs (EC2/GCP/Azure)\\nTopic Icon\\nRun models via Docker (text-generation-webui, llama.cpp)\\nTopic Icon\\nModel quantization + LoRA\\n\\nVector DBs & Embedding Integration in Cloud\\nTopic Icon\\nEmbedding Models\\nTopic Icon\\nOpenAI, Cohere, Hugging Face, Gemini Text Embedding APIs\\nTopic Icon\\nCloud Vector Stores\\nTopic Icon\\nPinecone\\nTopic Icon\\nWeaviate on GCP\\nTopic Icon\\nChromaDB on EC2 / Azure\\nTopic Icon\\nQdrant Cloud\\nTopic Icon\\nConnecting LangChain / LlamaIndex\\nTopic Icon\\nRAG Pipelines in Cloud + Vector Store + UI\\nPrompt Engineering & LLMOps in Cloud\\nTopic Icon\\nPrompt Lifecycle in Production\\nTopic Icon\\nPrompt Templates & Reusability (LangChain + PromptLayer)\\nTopic Icon\\nLLM Evaluation: GPT Judge, Trulens\\nTopic Icon\\nCI/CD for GenAI Apps\\nTopic Icon\\nGitHub Actions, DockerHub\\nTopic Icon\\nAuto-deploy Streamlit/FastAPI via Railway/Render/Cloud Run\\nAgents, Tools & Cloud APIs\\nTopic Icon\\nLangChain Agents + Cloud Functions\\nTopic Icon\\nCrewAI Agents Hosted on Render/EC2\\nTopic Icon\\nOpenAI Tools (Function Calling)\\nTopic Icon\\nRetrieval APIs + Calendar APIs + Google Sheets APIs\\nTopic Icon\\nZapier/N8N Integration in Agent Flows\\nGenAI Monitoring & Logging\\nTopic Icon\\nLog Everything: Prompt, Completion, User Input, Token Usage\\nTopic Icon\\nCloud Observability Tools\\nTopic Icon\\nAWS CloudWatch\\nTopic Icon\\nAzure Monitor\\nTopic Icon\\nGCP Logging\\nTopic Icon\\nDashboarding with Grafana / Superset\\nTopic Icon\\nFail-Safe Mechanisms (Fallback Prompts, Retry on Token Errors)\\nSecurity, Compliance & Cost Management\\nTopic Icon\\nSecrets Management (AWS Secrets Manager, Azure Key Vault)\\nTopic Icon\\nSecure Access to APIs (JWT, OAuth, API Keys)\\nTopic Icon\\nModel Cost Estimation (OpenAI Token Cost, API Cost Logs)\\nTopic Icon\\nUsage Quotas & Budget Alerts\\nTopic Icon\\nCompliance Guidelines: SOC2, HIPAA, GDPR in GenAI Apps\\nCapstone Projects (Cloud-Based)\\nTopic Icon\\nProject 1: PDF + Website Knowledge Chatbot\\nTopic Icon\\nGCP + Gemini + FAISS + Streamlit UI\\nTopic Icon\\nProject 2: Image + Text Generator\\nTopic Icon\\nAWS Bedrock (Titan + Claude) + Gradio + S3 Storage\\nTopic Icon\\nProject 3: Serverless Resume Analyzer\\nTopic Icon\\nAzure OpenAI + Functions + CosmosDB + Blob Storage\\nTopic Icon\\nProject 4: LLM Agent + Tool Integration\\nTopic Icon\\nCrewAI + FastAPI + N8N on EC2\\nTopic Icon\\nProject 5: Enterprise GenAI Analytics App\\nTopic Icon\\nPrompt Evaluator + Feedback + Logging Dashboard + Multi-user Auth\\nShow less sections\\nMeet Your Instructors\\nAbhishek Kumar's profile\\nAbhishek Kumar\\nProgramming | Data Science | Machine Learning | Deep Learning | NLP | Computer Vision | Generative AI | Big Data | Data Analytics\\nMy journey has been one of dedication, resilience, and a deeply personal mission to make education accessible to everyone. Coming from a humble background in Jamshedpur, Jharkhand, I know firsthand the challenges of pursuing quality education without financial ease. My early experiences motiva...\")]"
      ]
     },
     "execution_count": 4,
     "metadata": {},
     "output_type": "execute_result"
    }
   ],
   "source": [
    "from langchain.document_loaders import TextLoader\n",
    "from langchain.text_splitter import RecursiveCharacterTextSplitter\n",
    "\n",
    "\n",
    "document = TextLoader(\"abhishek.txt\").load()\n",
    "document"
   ]
  },
  {
   "cell_type": "code",
   "execution_count": 5,
   "metadata": {},
   "outputs": [],
   "source": [
    "splitter = RecursiveCharacterTextSplitter(chunk_size=300, chunk_overlap=30)\n",
    "docs = splitter.split_documents(document)"
   ]
  },
  {
   "cell_type": "code",
   "execution_count": 6,
   "metadata": {},
   "outputs": [
    {
     "data": {
      "text/plain": [
       "58"
      ]
     },
     "execution_count": 6,
     "metadata": {},
     "output_type": "execute_result"
    }
   ],
   "source": [
    "len(docs)"
   ]
  },
  {
   "cell_type": "code",
   "execution_count": 7,
   "metadata": {},
   "outputs": [
    {
     "data": {
      "text/plain": [
       "[53,\n",
       " 295,\n",
       " 163,\n",
       " 291,\n",
       " 52,\n",
       " 288,\n",
       " 132,\n",
       " 270,\n",
       " 140,\n",
       " 125,\n",
       " 297,\n",
       " 141,\n",
       " 293,\n",
       " 157,\n",
       " 296,\n",
       " 140,\n",
       " 298,\n",
       " 221,\n",
       " 295,\n",
       " 117,\n",
       " 297,\n",
       " 82,\n",
       " 257,\n",
       " 293,\n",
       " 296,\n",
       " 289,\n",
       " 53,\n",
       " 299,\n",
       " 104,\n",
       " 6,\n",
       " 38,\n",
       " 292,\n",
       " 61,\n",
       " 292,\n",
       " 278,\n",
       " 246,\n",
       " 177,\n",
       " 283,\n",
       " 110,\n",
       " 290,\n",
       " 276,\n",
       " 45,\n",
       " 292,\n",
       " 274,\n",
       " 280,\n",
       " 215,\n",
       " 294,\n",
       " 256,\n",
       " 287,\n",
       " 269,\n",
       " 268,\n",
       " 298,\n",
       " 282,\n",
       " 298,\n",
       " 299,\n",
       " 283,\n",
       " 210,\n",
       " 297]"
      ]
     },
     "execution_count": 7,
     "metadata": {},
     "output_type": "execute_result"
    }
   ],
   "source": [
    "[len(doc.page_content) for doc in docs]\n"
   ]
  },
  {
   "cell_type": "code",
   "execution_count": 9,
   "metadata": {},
   "outputs": [
    {
     "data": {
      "text/plain": [
       "'Making an Impact\\nHelping Millions of Students Succeed'"
      ]
     },
     "execution_count": 9,
     "metadata": {},
     "output_type": "execute_result"
    }
   ],
   "source": [
    "docs[0].page_content"
   ]
  },
  {
   "cell_type": "code",
   "execution_count": 10,
   "metadata": {},
   "outputs": [
    {
     "data": {
      "text/plain": [
       "53"
      ]
     },
     "execution_count": 10,
     "metadata": {},
     "output_type": "execute_result"
    }
   ],
   "source": [
    "len(docs[0].page_content)"
   ]
  },
  {
   "cell_type": "code",
   "execution_count": 11,
   "metadata": {},
   "outputs": [
    {
     "data": {
      "text/plain": [
       "'Making an Impact\\nHelping Millions of Students Succeed'"
      ]
     },
     "execution_count": 11,
     "metadata": {},
     "output_type": "execute_result"
    }
   ],
   "source": [
    "docs[0].page_content\n"
   ]
  },
  {
   "cell_type": "code",
   "execution_count": 13,
   "metadata": {},
   "outputs": [
    {
     "data": {
      "text/plain": [
       "['Making an Impact\\nHelping Millions of Students Succeed',\n",
       " \"Abhishek's commitment to affordable education wasn't just a business strategy—it was his life's mission. Over the years, factly has helped over 1.5 million students from 34+ countries, providing them with the skills they need to succeed in today's competitive job market. Many of these students,\",\n",
       " 'Many of these students, like Abhishek himself, came from disadvantaged backgrounds. They saw factly as a lifeline—an opportunity to rise above their circumstances.',\n",
       " 'In 2022, factly was acquired by PhysicsWallah in a deal worth ₹250 crore. While this acquisition was a significant milestone, Abhishek remained focused on his mission. Even after the acquisition, factly continued to offer some of the most affordable and accessible tech courses in the world.',\n",
       " \"The Entrepreneur and Teacher: Abhishek's Dual Legacy\",\n",
       " \"Abhishek's journey isn't just one of entrepreneurial success; it's also a story of dedication to teaching. Throughout his career, he has remained a passionate educator, constantly looking for ways to empower others through knowledge. Whether teaching courses in Big Data, Data Science, or\",\n",
       " 'in Big Data, Data Science, or programming, Abhishek has always sought to make complex subjects accessible to learners at all levels.',\n",
       " 'His commitment to affordable education has earned him the respect and admiration of countless students. Many credit Abhishek with changing their lives, helping them secure jobs, improve their skills, and break free from the limitations of their backgrounds.\\n\\nThe Journey',\n",
       " 'The Journey\\n\\nEarly Life and the Power of Education\\n\\nRising Through the Ranks of the Tech World\\n\\nThe Birth of factly: Democratizing Education',\n",
       " 'The Foundation of arcesium: Expanding the Mission\\nEarly Life and the Power of Education\\nEarly Life and the Power of Education',\n",
       " \"Abhishek Kumar's life is a story of triumph over adversity, driven by the belief in the transformative power of education. Born in Jamshedpur, Jharkhand, India, to a family of very modest means, Abhishek's early years were marked by financial hardship. His surroundings offered little opportunity,\",\n",
       " 'offered little opportunity, and resources were limited, yet he understood from a young age that education could be his ticket out of poverty.',\n",
       " 'While many would have been daunted by the lack of support and opportunity, Abhishek was relentless in his pursuit of knowledge. He knew that education had the power to change lives, and he was determined to leverage it to create a better future for himself and his family. Despite the numerous',\n",
       " 'family. Despite the numerous challenges along the way, Abhishek excelled academically, eventually earning a degree in Computer Science and Engineering (CSE).',\n",
       " 'After completing his education, Abhishek began his professional journey in the tech industry, working with prestigious companies like Wipro, Deloitte, Verizon Labs, and Ernst & Young. During this time, he gained expertise in various technologies and frameworks, including SAP WebDynpro, Fiori UI5',\n",
       " 'SAP WebDynpro, Fiori UI5 HANA, Java, Big Data, Data Analytics, and more. He became a well-rounded technologist, well-respected in his field.',\n",
       " 'Despite his growing success, Abhishek never forgot his roots. He knew that there were many others who, like him, came from humble backgrounds and were looking for an opportunity to change their lives through education. It was during this time that Abhishek realized a harsh truth: quality education',\n",
       " 'truth: quality education was often inaccessible to those who needed it the most. The high cost of education barred millions of people from pursuing their dreams, especially in tech fields that required specialized skills.',\n",
       " 'Fueled by his passion for making education accessible, Abhishek decided to take action. In 2019, he founded factly Intelligence Private Limited, an edtech platform that would make tech upskilling affordable and accessible for everyone. His mission was clear: to provide high-quality courses at a',\n",
       " 'high-quality courses at a price so low that even those from the most disadvantaged backgrounds could afford to learn.',\n",
       " 'factly was designed to be more than just an online learning platform. It offered a comprehensive bundle of resources, including courses, books, hands-on projects, and live classes, making sure that learners could gain real-world, applicable skills. Most importantly, factly was priced to ensure no',\n",
       " 'was priced to ensure no student would be left behind due to financial constraints.',\n",
       " \"The company quickly gained traction, thanks to Abhishek's focus on affordability and quality. In 2021, factly raised $3 million in funding from S. Chand, a leading education publisher. This allowed factly to expand its offerings and reach a larger audience.\",\n",
       " 'Building on the success of factly, Abhishek is now leading arcesium, a unified platform for tech upskilling. arcesium is designed for enterprises, schools, colleges, government organizations, and individuals looking to improve their tech skills. The platform provides a comprehensive bundle of',\n",
       " \"a comprehensive bundle of resources, including courses, books, live classes, and projects. arcesium's unique offering is its ability to provide licenses at scale—organizations can subscribe to provide their teams with unlimited access to learning materials for just 1600 INR per year per license.\",\n",
       " \"For individuals, arcesium Plus offers a similar plan, priced at 2900 INR per year, giving learners access to all of arcesium's content, along with 24/7 support through arcesium Assist. The idea is simple: anyone, anywhere, should have the opportunity to upskill without financial barriers.\",\n",
       " 'The arcesium Motto: Education for All, Without Limits',\n",
       " \"At the heart of arcesium's philosophy is a single, powerful idea: Education for All, Without Limits. Abhishek believes that every person deserves the chance to learn, grow, and succeed, regardless of their financial situation or background. This belief is what drives arcesium's mission to make tech\",\n",
       " 'mission to make tech education not just affordable but also accessible to anyone, anywhere in the world.',\n",
       " 'Home >',\n",
       " 'Generative AI\\nGenerative AI with Cloud',\n",
       " 'Generative AI with Cloud is a practical course that combines generative AI techniques with cloud platforms like AWS, Azure, and GCP. Learn to deploy and scale models, integrate APIs, manage storage, and build intelligent applications using tools like Vertex AI, Bedrock, and OpenAI. Ideal for',\n",
       " 'and OpenAI. Ideal for real-world, cloud-powered AI solutions.',\n",
       " '🌐\\nEnglish\\nGenerative AI with Cloud\\nThis course is included in plans\\n\\n📚\\nContinue Learning\\nWhat you will get\\ntick-svg\\nCertificate of Completion\\n\\ntick-svg\\nWhatsApp Group Access\\n\\ntick-svg\\nEURI AI Tool Access\\n\\ntick-svg\\nResume AI Tool\\n\\ntick-svg\\nJob Portal Access\\n\\ntick-svg\\nAvni – AI Interview Coach',\n",
       " 'tick-svg\\nNo Prerequisites Required\\n\\ntick-svg\\nQuiz in Every Module\\n\\ntick-svg\\nChallenges in Every Module\\n\\ntick-svg\\nCareer-Ready Portfolio\\n\\ntick-svg\\nResources in all Module\\n\\ntick-svg\\nOne module release every Monday\\n\\nCourse content\\n12 sections • 100 Subtopics\\n\\nCollapse all sections',\n",
       " 'Introduction to Generative AI in the Cloud\\nTopic Icon\\nWhat is Generative AI in a Cloud Context?\\nTopic Icon\\nDifferences Between Local vs Cloud-Based Generative AI\\nTopic Icon\\nUse Cases: AI Agents, Chatbots, Text-to-Image, Code Assistants\\nTopic Icon',\n",
       " 'Topic Icon\\nCloud Provider Comparison: AWS vs Azure vs GCP vs Hugging Face vs OpenAI\\nTopic Icon\\nKey Components: Model APIs, Storage, Serverless Compute, GPU Instances, Vector DBs',\n",
       " 'GenAI Building Blocks & Architecture\\nTopic Icon\\nCore Architecture: Frontend ↔ API Layer ↔ Model ↔ Storage\\nTopic Icon\\nDeployment Flow: Prompt → Model API → Output → Logging\\nTopic Icon\\nCloud GenAI Architecture Patterns\\nTopic Icon\\nRAG Pipeline\\nTopic Icon\\nAgent Execution Flow\\nTopic Icon',\n",
       " 'Topic Icon\\nImage + Text Generation\\nTopic Icon\\nDev Tools: GitHub, VS Code, LangChain, Streamlit/Gradio, FastAPI',\n",
       " 'GenAI on AWS\\nTopic Icon\\nAWS Bedrock\\nTopic Icon\\nAccessing Claude, Titan, LLaMA via Bedrock\\nTopic Icon\\nBedrock API setup and playground\\nTopic Icon\\nAmazon SageMaker JumpStart\\nTopic Icon\\nDeploying Pre-trained Foundation Models (T5, Falcon)\\nTopic Icon\\nFine-Tuning & Inference Endpoint\\nTopic Icon',\n",
       " 'Topic Icon\\nHugging Face on SageMaker\\nTopic Icon\\nAWS Lambda + API Gateway\\nTopic Icon\\nServerless LLM pipelines\\nTopic Icon\\nEvent-driven prompt processing\\nTopic Icon\\nAWS S3 + DynamoDB\\nTopic Icon\\nStore prompt history, logs, and outputs\\nTopic Icon\\nHosting RAG Application\\nTopic Icon',\n",
       " 'Topic Icon\\nLLM + FAISS + OpenSearch + FastAPI',\n",
       " 'GenAI on Azure\\nTopic Icon\\nAzure OpenAI Service\\nTopic Icon\\nUsing GPT-4, Codex, and Embeddings via Azure\\nTopic Icon\\nRate limiting, usage quotas, regions\\nTopic Icon\\nAzure ML + Hugging Face\\nTopic Icon\\nFine-tune or deploy LLaMA/DistilGPT on managed compute\\nTopic Icon\\nAzure Functions for Inference',\n",
       " 'Azure Functions for Inference\\nTopic Icon\\nStateless REST APIs for prompt → response\\nTopic Icon\\nAzure Blob Storage & Cosmos DB\\nTopic Icon\\nFile + text chunk storage and metadata handling\\nTopic Icon\\nAzure AI Search + RAG Setup\\nTopic Icon\\nIndex unstructured data and use with GPT',\n",
       " 'GenAI on Google Cloud (GCP)\\nTopic Icon\\nGemini (Vertex AI Studio)\\nTopic Icon\\nGemini 1.5 Pro Prompting, JSON Structuring\\nTopic Icon\\nAPI key access & project setup\\nTopic Icon\\nVertex AI PaLM Models\\nTopic Icon\\nText & chat APIs\\nTopic Icon\\nEmbeddings + RAG in Vertex pipelines\\nTopic Icon',\n",
       " 'Topic Icon\\nCloud Functions & Cloud Run\\nTopic Icon\\nDeploy APIs for chatbots or assistants\\nTopic Icon\\nBigQuery + Cloud Storage\\nTopic Icon\\nLogging prompt-response cycles\\nTopic Icon\\nMetadata store for prompt experiments',\n",
       " 'Hugging Face & Open-Source Cloud Deployments\\nTopic Icon\\nHugging Face Inference Endpoints\\nTopic Icon\\nDeploy custom models (Falcon, Mistral, Bloom)\\nTopic Icon\\nControl security, auth, autoscaling\\nTopic Icon\\nSpaces with Gradio & Streamlit\\nTopic Icon\\nBuild GenAI UI on Hugging Face Spaces\\nTopic Icon',\n",
       " 'Topic Icon\\nShare projects publicly or privately\\nTopic Icon\\nWeights & Biases for Prompt/Model Tracking\\nTopic Icon\\nOpen-Source on GPU VMs (EC2/GCP/Azure)\\nTopic Icon\\nRun models via Docker (text-generation-webui, llama.cpp)\\nTopic Icon\\nModel quantization + LoRA',\n",
       " 'Vector DBs & Embedding Integration in Cloud\\nTopic Icon\\nEmbedding Models\\nTopic Icon\\nOpenAI, Cohere, Hugging Face, Gemini Text Embedding APIs\\nTopic Icon\\nCloud Vector Stores\\nTopic Icon\\nPinecone\\nTopic Icon\\nWeaviate on GCP\\nTopic Icon\\nChromaDB on EC2 / Azure\\nTopic Icon\\nQdrant Cloud\\nTopic Icon',\n",
       " 'Qdrant Cloud\\nTopic Icon\\nConnecting LangChain / LlamaIndex\\nTopic Icon\\nRAG Pipelines in Cloud + Vector Store + UI\\nPrompt Engineering & LLMOps in Cloud\\nTopic Icon\\nPrompt Lifecycle in Production\\nTopic Icon\\nPrompt Templates & Reusability (LangChain + PromptLayer)\\nTopic Icon',\n",
       " 'Topic Icon\\nLLM Evaluation: GPT Judge, Trulens\\nTopic Icon\\nCI/CD for GenAI Apps\\nTopic Icon\\nGitHub Actions, DockerHub\\nTopic Icon\\nAuto-deploy Streamlit/FastAPI via Railway/Render/Cloud Run\\nAgents, Tools & Cloud APIs\\nTopic Icon\\nLangChain Agents + Cloud Functions\\nTopic Icon',\n",
       " 'Topic Icon\\nCrewAI Agents Hosted on Render/EC2\\nTopic Icon\\nOpenAI Tools (Function Calling)\\nTopic Icon\\nRetrieval APIs + Calendar APIs + Google Sheets APIs\\nTopic Icon\\nZapier/N8N Integration in Agent Flows\\nGenAI Monitoring & Logging\\nTopic Icon\\nLog Everything: Prompt, Completion, User Input, Token Usage',\n",
       " 'Topic Icon\\nCloud Observability Tools\\nTopic Icon\\nAWS CloudWatch\\nTopic Icon\\nAzure Monitor\\nTopic Icon\\nGCP Logging\\nTopic Icon\\nDashboarding with Grafana / Superset\\nTopic Icon\\nFail-Safe Mechanisms (Fallback Prompts, Retry on Token Errors)\\nSecurity, Compliance & Cost Management\\nTopic Icon',\n",
       " 'Topic Icon\\nSecrets Management (AWS Secrets Manager, Azure Key Vault)\\nTopic Icon\\nSecure Access to APIs (JWT, OAuth, API Keys)\\nTopic Icon\\nModel Cost Estimation (OpenAI Token Cost, API Cost Logs)\\nTopic Icon\\nUsage Quotas & Budget Alerts\\nTopic Icon\\nCompliance Guidelines: SOC2, HIPAA, GDPR in GenAI Apps',\n",
       " 'Capstone Projects (Cloud-Based)\\nTopic Icon\\nProject 1: PDF + Website Knowledge Chatbot\\nTopic Icon\\nGCP + Gemini + FAISS + Streamlit UI\\nTopic Icon\\nProject 2: Image + Text Generator\\nTopic Icon\\nAWS Bedrock (Titan + Claude) + Gradio + S3 Storage\\nTopic Icon\\nProject 3: Serverless Resume Analyzer\\nTopic Icon',\n",
       " 'Topic Icon\\nAzure OpenAI + Functions + CosmosDB + Blob Storage\\nTopic Icon\\nProject 4: LLM Agent + Tool Integration\\nTopic Icon\\nCrewAI + FastAPI + N8N on EC2\\nTopic Icon\\nProject 5: Enterprise GenAI Analytics App\\nTopic Icon\\nPrompt Evaluator + Feedback + Logging Dashboard + Multi-user Auth',\n",
       " \"Show less sections\\nMeet Your Instructors\\nAbhishek Kumar's profile\\nAbhishek Kumar\\nProgramming | Data Science | Machine Learning | Deep Learning | NLP | Computer Vision | Generative AI | Big Data | Data Analytics\",\n",
       " 'My journey has been one of dedication, resilience, and a deeply personal mission to make education accessible to everyone. Coming from a humble background in Jamshedpur, Jharkhand, I know firsthand the challenges of pursuing quality education without financial ease. My early experiences motiva...']"
      ]
     },
     "execution_count": 13,
     "metadata": {},
     "output_type": "execute_result"
    }
   ],
   "source": [
    "texts = [doc.page_content for doc in docs]\n",
    "texts"
   ]
  },
  {
   "cell_type": "markdown",
   "metadata": {},
   "source": [
    "### converting into embeddings"
   ]
  },
  {
   "cell_type": "code",
   "execution_count": 15,
   "metadata": {},
   "outputs": [
    {
     "data": {
      "text/plain": [
       "[array([ 0.03395454, -0.0469909 ,  0.03878181, ..., -0.02398636,\n",
       "        -0.01851818,  0.01633636]),\n",
       " array([ 0.00222121,  0.01417504,  0.04687936, ...,  0.00848468,\n",
       "        -0.00606339,  0.00479171]),\n",
       " array([ 0.00835684,  0.00321195,  0.0240378 , ...,  0.00796278,\n",
       "        -0.03285665,  0.00099195]),\n",
       " array([-0.03912006, -0.03953902,  0.01851264, ..., -0.0165095 ,\n",
       "         0.00166028,  0.03859637]),\n",
       " array([ 0.0497135 ,  0.00248864,  0.04778724, ..., -0.03979191,\n",
       "         0.02365613, -0.0001878 ]),\n",
       " array([ 0.02293671,  0.00282336,  0.05224019, ..., -0.02238865,\n",
       "         0.00464098,  0.00543391]),\n",
       " array([ 0.01883637, -0.00435591,  0.04397568, ...,  0.00189118,\n",
       "         0.01190555,  0.01604714]),\n",
       " array([ 0.04013287, -0.037623  ,  0.05436385, ...,  0.00638449,\n",
       "        -0.00923633,  0.0197025 ]),\n",
       " array([ 0.00418858, -0.02390262,  0.00359171, ...,  0.01201451,\n",
       "        -0.01445111, -0.03555901]),\n",
       " array([ 0.0192949 , -0.00051076,  0.05972037, ..., -0.0209674 ,\n",
       "         0.00802255, -0.02182404]),\n",
       " array([ 0.01429968, -0.00965024,  0.03230019, ...,  0.00766514,\n",
       "         0.0081863 ,  0.00832099]),\n",
       " array([-0.01566061, -0.01703123, -0.0013262 , ..., -0.02850383,\n",
       "        -0.02363051, -0.0083189 ]),\n",
       " array([ 0.03221406, -0.00592247,  0.02687991, ..., -0.01338766,\n",
       "        -0.02358529,  0.00476543]),\n",
       " array([ 0.03674692, -0.00865774,  0.0259556 , ..., -0.01958425,\n",
       "         0.01882016,  0.02475657]),\n",
       " array([-0.02912201, -0.00810797,  0.05662481, ...,  0.00280981,\n",
       "         0.00152694,  0.00904259]),\n",
       " array([-0.05323311, -0.0117742 ,  0.03674016, ..., -0.01866784,\n",
       "         0.00754093, -0.00424298]),\n",
       " array([ 0.01584337, -0.00562888,  0.03484346, ..., -0.0061819 ,\n",
       "        -0.01189747, -0.0219894 ]),\n",
       " array([ 0.00605073, -0.01150085, -0.00222554, ..., -0.01835141,\n",
       "        -0.02000458, -0.00719546]),\n",
       " array([-0.01439253, -0.01759229,  0.00363638, ...,  0.02084304,\n",
       "        -0.02118724,  0.00158235]),\n",
       " array([-0.02509295, -0.02104481,  0.02861428, ..., -0.02308274,\n",
       "        -0.01646985, -0.00468933]),\n",
       " array([-0.02028525, -0.00928673,  0.00814106, ...,  0.02250921,\n",
       "        -0.03447818, -0.01004827]),\n",
       " array([-0.01451353, -0.01273917,  0.00697794, ..., -0.00891525,\n",
       "        -0.01230463, -0.03047551]),\n",
       " array([ 0.01227701, -0.00869175,  0.03069252, ...,  0.00999852,\n",
       "         0.00810202,  0.02266422]),\n",
       " array([-0.00564103,  0.00053673,  0.03766675, ...,  0.00527487,\n",
       "        -0.01086753, -0.00197419]),\n",
       " array([-0.01174956,  0.01636684,  0.06773731, ...,  0.00142033,\n",
       "        -0.0023699 ,  0.0057974 ]),\n",
       " array([-0.0390339 , -0.01194805,  0.05509078, ..., -0.00384527,\n",
       "         0.01287389,  0.00760269]),\n",
       " array([ 0.02373649, -0.00970355,  0.03354247, ...,  0.00238662,\n",
       "         0.00125221,  0.00102772]),\n",
       " array([ 0.01047948, -0.00957319,  0.02790054, ..., -0.01358775,\n",
       "         0.01870329, -0.00085637]),\n",
       " array([-0.00033577, -0.02162252, -0.00970943, ..., -0.00326708,\n",
       "        -0.01269438, -0.00453752]),\n",
       " array([ 0.01552467,  0.00468789,  0.01879615, ...,  0.02010475,\n",
       "         0.01079589, -0.04639557]),\n",
       " array([-0.00544604, -0.00630594,  0.05293573, ..., -0.02902927,\n",
       "         0.0172834 ,  0.01932032]),\n",
       " array([-0.02160816,  0.01823297,  0.08425212, ..., -0.03702268,\n",
       "         0.01379072,  0.0229652 ]),\n",
       " array([-0.01256562,  0.00395384,  0.04547073, ..., -0.00684992,\n",
       "        -0.01451546,  0.00635928]),\n",
       " array([ 0.01192094,  0.01144583,  0.02091718, ..., -0.00747835,\n",
       "         0.01793077,  0.00949603]),\n",
       " array([-0.01549536,  0.02540877,  0.02411964, ...,  0.04285071,\n",
       "        -0.03369788,  0.01189868]),\n",
       " array([-0.01254876, -0.00606559,  0.03878123, ..., -0.01617848,\n",
       "         0.01010218,  0.02192821]),\n",
       " array([-0.01859897, -0.02960218,  0.03196847, ...,  0.00391915,\n",
       "         0.02546119,  0.00590092]),\n",
       " array([-0.01223544,  0.00367127,  0.05473885, ..., -0.02123888,\n",
       "        -0.00335705,  0.0081249 ]),\n",
       " array([-0.01872747, -0.01639933, -0.02481646, ..., -0.01220356,\n",
       "         0.02045439, -0.00819967]),\n",
       " array([ 0.00440376, -0.01128247,  0.09623284, ...,  0.00958872,\n",
       "        -0.00600073,  0.00677156]),\n",
       " array([ 0.0332476 , -0.01529967,  0.03117618, ..., -0.0054342 ,\n",
       "        -0.0016945 , -0.040668  ]),\n",
       " array([-0.03875904, -0.00739945,  0.01006922, ..., -0.00848362,\n",
       "         0.00067252, -0.00114007]),\n",
       " array([-0.00684764,  0.01097609,  0.05930068, ..., -0.0082569 ,\n",
       "         0.01266472,  0.00515591]),\n",
       " array([-0.00046449,  0.00383338,  0.01114771, ...,  0.0060623 ,\n",
       "         0.01295928,  0.0141093 ]),\n",
       " array([-0.01466582,  0.01878646,  0.05292332, ...,  0.00832687,\n",
       "         0.01782542,  0.00268237]),\n",
       " array([ 0.00619563,  0.02133327,  0.00894852, ..., -0.02112502,\n",
       "         0.01888626, -0.02305139]),\n",
       " array([-0.01068526, -0.03067931,  0.07611649, ...,  0.00599183,\n",
       "        -0.01501328, -0.03510667]),\n",
       " array([ 0.01015468,  0.00349089,  0.00750593, ..., -0.00824674,\n",
       "         0.01984809, -0.04632154]),\n",
       " array([-0.00769099,  0.00124581,  0.05674809, ...,  0.00643882,\n",
       "         0.0121594 ,  0.00033211]),\n",
       " array([ 0.02044322,  0.00757469,  0.00867992, ..., -0.02628615,\n",
       "         0.01331202, -0.02458254]),\n",
       " array([-0.03163727,  0.01457352,  0.01770046, ..., -0.02222815,\n",
       "         0.03664604,  0.00529174]),\n",
       " array([ 0.00463613,  0.04436897,  0.02780989, ..., -0.0070352 ,\n",
       "         0.02226721, -0.01637985]),\n",
       " array([ 0.005997  ,  0.03194964,  0.05178933, ...,  0.00720155,\n",
       "         0.02539223, -0.03290298]),\n",
       " array([-0.00200764,  0.00925032,  0.05287778, ...,  0.00130793,\n",
       "         0.0228258 , -0.01694463]),\n",
       " array([-0.02400717,  0.00315207,  0.02908107, ...,  0.00503914,\n",
       "         0.0268847 ,  0.01253878]),\n",
       " array([-0.01149193,  0.01592311,  0.03280003, ..., -0.00671632,\n",
       "         0.02977967, -0.01171713]),\n",
       " array([-0.01122032, -0.02344453,  0.0301657 , ...,  0.00400944,\n",
       "         0.01169166, -0.00485724]),\n",
       " array([ 0.03895768, -0.02641372,  0.02939674, ...,  0.02054967,\n",
       "        -0.02710211, -0.02137828])]"
      ]
     },
     "execution_count": 15,
     "metadata": {},
     "output_type": "execute_result"
    }
   ],
   "source": [
    "embeddings = [generate_embeddings(i) for i in texts]\n",
    "embeddings"
   ]
  },
  {
   "cell_type": "code",
   "execution_count": 16,
   "metadata": {},
   "outputs": [
    {
     "data": {
      "text/plain": [
       "array([ 0.01690955, -0.02679409, -0.00042851, ...,  0.0048325 ,\n",
       "        0.02119885,  0.00627635])"
      ]
     },
     "execution_count": 16,
     "metadata": {},
     "output_type": "execute_result"
    }
   ],
   "source": [
    "generate_embeddings(\"my name is abhishek\")\n"
   ]
  },
  {
   "cell_type": "code",
   "execution_count": 17,
   "metadata": {},
   "outputs": [
    {
     "data": {
      "text/plain": [
       "array([ 0.02033959,  0.0112574 ,  0.01501457, ...,  0.0141459 ,\n",
       "       -0.01669541, -0.00123944])"
      ]
     },
     "execution_count": 17,
     "metadata": {},
     "output_type": "execute_result"
    }
   ],
   "source": [
    "generate_embeddings(\"This is a test input.\")\n"
   ]
  },
  {
   "cell_type": "markdown",
   "metadata": {},
   "source": [
    "### creating emneddings"
   ]
  },
  {
   "cell_type": "code",
   "execution_count": 19,
   "metadata": {},
   "outputs": [
    {
     "name": "stdout",
     "output_type": "stream",
     "text": [
      "Processed 1/58: Making an Impact\n",
      "Helping Milli... -> [ 0.03394562 -0.04700582  0.03882615  0.07890651  0.02693837]\n",
      "Processed 2/58: Abhishek's commitment to affor... -> [0.00222121 0.01417504 0.04687936 0.03155133 0.02719708]\n",
      "Processed 3/58: Many of these students, like A... -> [0.00837254 0.00321276 0.0240167  0.06420763 0.05594382]\n",
      "Processed 4/58: In 2022, factly was acquired b... -> [-0.03912006 -0.03953902  0.01851264  0.01957312  0.03432825]\n",
      "Processed 5/58: The Entrepreneur and Teacher: ... -> [0.0497135  0.00248864 0.04778724 0.02062161 0.02595182]\n",
      "Processed 6/58: Abhishek's journey isn't just ... -> [0.02293671 0.00282336 0.05224019 0.03950664 0.02735613]\n",
      "Processed 7/58: in Big Data, Data Science, or ... -> [ 0.01872769 -0.00426837  0.04363758 -0.01171236  0.06529939]\n",
      "Processed 8/58: His commitment to affordable e... -> [ 0.04013287 -0.037623    0.05436385  0.05797807  0.02861255]\n"
     ]
    }
   ],
   "source": [
    "embeddings  = []\n",
    "valid_texts = []\n",
    "for i ,text in enumerate(texts[0:8]):\n",
    "    clean_text = text.strip()\n",
    "    if not clean_text:\n",
    "        print(f\"Skipping empty text at index {i}\")\n",
    "        continue\n",
    "    embedding = generate_embeddings(text)\n",
    "    embeddings.append(embedding)\n",
    "    valid_texts.append(text)\n",
    "    print(f\"Processed {i+1}/{len(texts)}: {text[:30]}... -> {embedding[:5]}\")  # Print first 30 characters of text and first 5 elements of embedding"
   ]
  },
  {
   "cell_type": "code",
   "execution_count": 20,
   "metadata": {},
   "outputs": [
    {
     "data": {
      "text/plain": [
       "[array([ 0.03394562, -0.04700582,  0.03882615, ..., -0.02400732,\n",
       "        -0.01851331,  0.0163457 ]),\n",
       " array([ 0.00222121,  0.01417504,  0.04687936, ...,  0.00848468,\n",
       "        -0.00606339,  0.00479171]),\n",
       " array([ 0.00837254,  0.00321276,  0.0240167 , ...,  0.00799877,\n",
       "        -0.03286495,  0.00101854]),\n",
       " array([-0.03912006, -0.03953902,  0.01851264, ..., -0.0165095 ,\n",
       "         0.00166028,  0.03859637]),\n",
       " array([ 0.0497135 ,  0.00248864,  0.04778724, ..., -0.03979191,\n",
       "         0.02365613, -0.0001878 ]),\n",
       " array([ 0.02293671,  0.00282336,  0.05224019, ..., -0.02238865,\n",
       "         0.00464098,  0.00543391]),\n",
       " array([ 0.01872769, -0.00426837,  0.04363758, ...,  0.00197872,\n",
       "         0.01199611,  0.01609543]),\n",
       " array([ 0.04013287, -0.037623  ,  0.05436385, ...,  0.00638449,\n",
       "        -0.00923633,  0.0197025 ])]"
      ]
     },
     "execution_count": 20,
     "metadata": {},
     "output_type": "execute_result"
    }
   ],
   "source": [
    "embeddings"
   ]
  },
  {
   "cell_type": "code",
   "execution_count": 21,
   "metadata": {},
   "outputs": [
    {
     "data": {
      "text/plain": [
       "array([ 0.03394562, -0.04700582,  0.03882615, ..., -0.02400732,\n",
       "       -0.01851331,  0.0163457 ])"
      ]
     },
     "execution_count": 21,
     "metadata": {},
     "output_type": "execute_result"
    }
   ],
   "source": [
    "embeddings[0]"
   ]
  },
  {
   "cell_type": "code",
   "execution_count": 22,
   "metadata": {},
   "outputs": [
    {
     "name": "stdout",
     "output_type": "stream",
     "text": [
      "🔄 Processing 1/58...\n",
      "🔄 Processing 2/58...\n",
      "🔄 Processing 3/58...\n",
      "🔄 Processing 4/58...\n",
      "🔄 Processing 5/58...\n",
      "🔄 Processing 6/58...\n",
      "🔄 Processing 7/58...\n",
      "🔄 Processing 8/58...\n",
      "🔄 Processing 9/58...\n",
      "🔄 Processing 10/58...\n",
      "🔄 Processing 11/58...\n",
      "🔄 Processing 12/58...\n",
      "🔄 Processing 13/58...\n",
      "🔄 Processing 14/58...\n",
      "🔄 Processing 15/58...\n",
      "🔄 Processing 16/58...\n",
      "🔄 Processing 17/58...\n",
      "🔄 Processing 18/58...\n",
      "🔄 Processing 19/58...\n",
      "🔄 Processing 20/58...\n",
      "🔄 Processing 21/58...\n",
      "🔄 Processing 22/58...\n",
      "🔄 Processing 23/58...\n",
      "🔄 Processing 24/58...\n",
      "🔄 Processing 25/58...\n",
      "🔄 Processing 26/58...\n",
      "🔄 Processing 27/58...\n",
      "🔄 Processing 28/58...\n",
      "🔄 Processing 29/58...\n",
      "🔄 Processing 30/58...\n",
      "🔄 Processing 31/58...\n",
      "🔄 Processing 32/58...\n",
      "🔄 Processing 33/58...\n",
      "🔄 Processing 34/58...\n",
      "🔄 Processing 35/58...\n",
      "🔄 Processing 36/58...\n",
      "🔄 Processing 37/58...\n",
      "🔄 Processing 38/58...\n",
      "🔄 Processing 39/58...\n",
      "🔄 Processing 40/58...\n",
      "🔄 Processing 41/58...\n",
      "🔄 Processing 42/58...\n",
      "🔄 Processing 43/58...\n",
      "🔄 Processing 44/58...\n",
      "🔄 Processing 45/58...\n",
      "🔄 Processing 46/58...\n",
      "🔄 Processing 47/58...\n",
      "🔄 Processing 48/58...\n",
      "🔄 Processing 49/58...\n",
      "🔄 Processing 50/58...\n",
      "🔄 Processing 51/58...\n",
      "🔄 Processing 52/58...\n",
      "🔄 Processing 53/58...\n",
      "🔄 Processing 54/58...\n",
      "🔄 Processing 55/58...\n",
      "🔄 Processing 56/58...\n",
      "🔄 Processing 57/58...\n",
      "🔄 Processing 58/58...\n"
     ]
    }
   ],
   "source": [
    "import time\n",
    "import numpy as np\n",
    "\n",
    "embeddings = []\n",
    "\n",
    "for i, text in enumerate(texts):\n",
    "    try:\n",
    "        print(f\"🔄 Processing {i+1}/{len(texts)}...\")\n",
    "        embedding = generate_embeddings(text).astype('float32')\n",
    "        embeddings.append(embedding)\n",
    "        time.sleep(1)  # ⏳ Add delay to respect API rate limits\n",
    "    except ValueError as e:\n",
    "        print(f\"❌ Error on text {i+1}: {e}\")\n"
   ]
  },
  {
   "cell_type": "code",
   "execution_count": 23,
   "metadata": {},
   "outputs": [
    {
     "data": {
      "text/plain": [
       "[Document(metadata={'source': 'abhishek.txt'}, page_content='Making an Impact\\nHelping Millions of Students Succeed'),\n",
       " Document(metadata={'source': 'abhishek.txt'}, page_content=\"Abhishek's commitment to affordable education wasn't just a business strategy—it was his life's mission. Over the years, factly has helped over 1.5 million students from 34+ countries, providing them with the skills they need to succeed in today's competitive job market. Many of these students,\"),\n",
       " Document(metadata={'source': 'abhishek.txt'}, page_content='Many of these students, like Abhishek himself, came from disadvantaged backgrounds. They saw factly as a lifeline—an opportunity to rise above their circumstances.'),\n",
       " Document(metadata={'source': 'abhishek.txt'}, page_content='In 2022, factly was acquired by PhysicsWallah in a deal worth ₹250 crore. While this acquisition was a significant milestone, Abhishek remained focused on his mission. Even after the acquisition, factly continued to offer some of the most affordable and accessible tech courses in the world.'),\n",
       " Document(metadata={'source': 'abhishek.txt'}, page_content=\"The Entrepreneur and Teacher: Abhishek's Dual Legacy\"),\n",
       " Document(metadata={'source': 'abhishek.txt'}, page_content=\"Abhishek's journey isn't just one of entrepreneurial success; it's also a story of dedication to teaching. Throughout his career, he has remained a passionate educator, constantly looking for ways to empower others through knowledge. Whether teaching courses in Big Data, Data Science, or\"),\n",
       " Document(metadata={'source': 'abhishek.txt'}, page_content='in Big Data, Data Science, or programming, Abhishek has always sought to make complex subjects accessible to learners at all levels.'),\n",
       " Document(metadata={'source': 'abhishek.txt'}, page_content='His commitment to affordable education has earned him the respect and admiration of countless students. Many credit Abhishek with changing their lives, helping them secure jobs, improve their skills, and break free from the limitations of their backgrounds.\\n\\nThe Journey'),\n",
       " Document(metadata={'source': 'abhishek.txt'}, page_content='The Journey\\n\\nEarly Life and the Power of Education\\n\\nRising Through the Ranks of the Tech World\\n\\nThe Birth of factly: Democratizing Education'),\n",
       " Document(metadata={'source': 'abhishek.txt'}, page_content='The Foundation of arcesium: Expanding the Mission\\nEarly Life and the Power of Education\\nEarly Life and the Power of Education')]"
      ]
     },
     "execution_count": 23,
     "metadata": {},
     "output_type": "execute_result"
    }
   ],
   "source": [
    "docs[0:10]"
   ]
  },
  {
   "cell_type": "code",
   "execution_count": 24,
   "metadata": {},
   "outputs": [
    {
     "data": {
      "text/plain": [
       "(1536,)"
      ]
     },
     "execution_count": 24,
     "metadata": {},
     "output_type": "execute_result"
    }
   ],
   "source": [
    "embeddings[0].shape"
   ]
  },
  {
   "cell_type": "markdown",
   "metadata": {},
   "source": [
    "### storing embeddings into vector database"
   ]
  },
  {
   "cell_type": "code",
   "execution_count": 25,
   "metadata": {},
   "outputs": [],
   "source": [
    "import faiss\n",
    "from langchain.vectorstores.faiss import FAISS\n",
    "from langchain.docstore.document import Document"
   ]
  },
  {
   "cell_type": "code",
   "execution_count": 26,
   "metadata": {},
   "outputs": [],
   "source": [
    "dimension = embeddings[0].shape[0]\n",
    "faiss_index = faiss.IndexFlatL2(dimension)\n",
    "\n",
    "faiss_index.add(np.array(embeddings).astype('float32'))"
   ]
  },
  {
   "cell_type": "code",
   "execution_count": 27,
   "metadata": {},
   "outputs": [
    {
     "name": "stdout",
     "output_type": "stream",
     "text": [
      "{'id': 'chatcmpl-BhDEmAzT2SL4UTL7W5TuKRxiZarTt', 'object': 'chat.completion', 'created': 1749638688, 'model': 'gpt-3.5-turbo', 'choices': [{'index': 0, 'message': {'role': 'assistant', 'content': 'Abhishek is a common Indian male given name that means \"fearless\" or \"without fear\". It is also a popular name in Hindu mythology, where it is associated with various gods and heroes. Abhishek is often used as a first name for boys in India, and is sometimes shortened to \"Abhi\" or \"Abhay\". People named Abhishek are generally believed to be courageous, confident, and determined individuals.'}, 'finish_reason': 'stop'}], 'usage': {'prompt_tokens': 13, 'completion_tokens': 89, 'total_tokens': 102}}\n"
     ]
    },
    {
     "data": {
      "text/plain": [
       "'Abhishek is a common Indian male given name that means \"fearless\" or \"without fear\". It is also a popular name in Hindu mythology, where it is associated with various gods and heroes. Abhishek is often used as a first name for boys in India, and is sometimes shortened to \"Abhi\" or \"Abhay\". People named Abhishek are generally believed to be courageous, confident, and determined individuals.'"
      ]
     },
     "execution_count": 27,
     "metadata": {},
     "output_type": "execute_result"
    }
   ],
   "source": [
    "generate_response(\"tell me about abhishek\")"
   ]
  },
  {
   "cell_type": "code",
   "execution_count": 30,
   "metadata": {},
   "outputs": [],
   "source": [
    "document = [Document(page_content=text) for text in texts[:len(embeddings)]]"
   ]
  },
  {
   "cell_type": "code",
   "execution_count": 31,
   "metadata": {},
   "outputs": [
    {
     "data": {
      "text/plain": [
       "[Document(metadata={}, page_content=\"Making an Impact\\nHelping Millions of Students Succeed\\nAbhishek's commitment to affordable education wasn't just a business strategy—it was his life's mission. Over the years, factly has helped over 1.5 million students from 34+ countries, providing them with the skills they need to succeed in today's competitive job market. Many of these students, like Abhishek himself, came from disadvantaged backgrounds. They saw factly as a lifeline—an opportunity to rise above their circumstances.\\n\\nIn 2022, factly was acquired by PhysicsWallah in a deal worth ₹250 crore. While this acquisition was a significant milestone, Abhishek remained focused on his mission. Even after the acquisition, factly continued to offer some of the most affordable and accessible tech courses in the world.\"),\n",
       " Document(metadata={}, page_content=\"The Entrepreneur and Teacher: Abhishek's Dual Legacy\\nAbhishek's journey isn't just one of entrepreneurial success; it's also a story of dedication to teaching. Throughout his career, he has remained a passionate educator, constantly looking for ways to empower others through knowledge. Whether teaching courses in Big Data, Data Science, or programming, Abhishek has always sought to make complex subjects accessible to learners at all levels.\\n\\nHis commitment to affordable education has earned him the respect and admiration of countless students. Many credit Abhishek with changing their lives, helping them secure jobs, improve their skills, and break free from the limitations of their backgrounds.\\n\\nThe Journey\\n\\nEarly Life and the Power of Education\\n\\nRising Through the Ranks of the Tech World\\n\\nThe Birth of factly: Democratizing Education\"),\n",
       " Document(metadata={}, page_content=\"The Foundation of arcesium: Expanding the Mission\\nEarly Life and the Power of Education\\nEarly Life and the Power of Education\\nAbhishek Kumar's life is a story of triumph over adversity, driven by the belief in the transformative power of education. Born in Jamshedpur, Jharkhand, India, to a family of very modest means, Abhishek's early years were marked by financial hardship. His surroundings offered little opportunity, and resources were limited, yet he understood from a young age that education could be his ticket out of poverty.\\n\\nWhile many would have been daunted by the lack of support and opportunity, Abhishek was relentless in his pursuit of knowledge. He knew that education had the power to change lives, and he was determined to leverage it to create a better future for himself and his family. Despite the numerous challenges along the way, Abhishek excelled academically, eventually earning a degree in Computer Science and Engineering (CSE).\")]"
      ]
     },
     "execution_count": 31,
     "metadata": {},
     "output_type": "execute_result"
    }
   ],
   "source": [
    "document"
   ]
  },
  {
   "cell_type": "code",
   "execution_count": 32,
   "metadata": {},
   "outputs": [
    {
     "data": {
      "text/plain": [
       "[array([-0.00385632, -0.03016803,  0.02152714, ..., -0.00815629,\n",
       "         0.0045252 ,  0.02842074]),\n",
       " array([ 0.04461834, -0.01665454,  0.04145075, ..., -0.01026989,\n",
       "         0.00267574,  0.00132163]),\n",
       " array([ 0.02154558, -0.01480704,  0.04501645, ..., -0.00432875,\n",
       "         0.00943648,  0.00042551])]"
      ]
     },
     "execution_count": 32,
     "metadata": {},
     "output_type": "execute_result"
    }
   ],
   "source": [
    "embeddings"
   ]
  },
  {
   "cell_type": "code",
   "execution_count": 30,
   "metadata": {},
   "outputs": [
    {
     "name": "stderr",
     "output_type": "stream",
     "text": [
      "`embedding_function` is expected to be an Embeddings object, support for passing in a function will soon be removed.\n"
     ]
    },
    {
     "data": {
      "text/plain": [
       "['f77a4e59-6dd6-461e-9727-53d73be3956a',\n",
       " 'c5353bce-7e47-4549-91a9-a6e1f4ba0ac3',\n",
       " '9e36ac8a-e5f6-4c85-a089-b9dcd25e943e',\n",
       " 'd2c1652f-cc9a-4107-975e-d13145930f1f',\n",
       " '97fea5e2-769c-4a72-8258-71b6bb965087',\n",
       " '5c1dbb15-77f6-41d8-a3e4-9dd0495ad338',\n",
       " '0b80270e-3678-401a-9fce-06598ccb70ae',\n",
       " 'f07506c7-c9fd-4885-b1f3-cd0e8d17f19f',\n",
       " '200ec2f1-3dfb-40fe-8c3d-28af86259545',\n",
       " '15774c96-7072-48d4-9c1d-3aad50681558',\n",
       " '70b1cdc1-82e7-4060-8c66-f9370c868bc9',\n",
       " '101593e9-bd6e-49c6-9ac2-21b396743e79',\n",
       " 'ca4f4d6e-4d47-4674-b196-2f1f1a601eaf',\n",
       " 'c81b3a4d-53c2-4cb1-a505-0d3c1ea43eef',\n",
       " 'daf26471-a6cf-4e97-9cf1-d1e358fbdb98',\n",
       " '78779eaf-417d-479b-9d74-f96e2f39d104',\n",
       " '4abe55a1-5afa-4351-8e20-0819a2964e39',\n",
       " 'a8b35419-4ad3-4836-9313-895a41221e8c',\n",
       " '039dc675-5ace-4e2d-bc02-6b7eb8c0f9fe',\n",
       " 'b785baad-7f28-4b08-bd73-cd590c01133a',\n",
       " 'e3e4fe58-dece-4296-be1d-07f09ee1d222',\n",
       " 'd28cfc4c-0ca5-4372-8a88-6dde6bcd3619',\n",
       " 'a446682d-0d16-40f7-a37f-fc924cf23159',\n",
       " 'cd64e2d3-ee7e-44c8-a2b9-8cd77ebc50df',\n",
       " '8f1a4ba0-7e56-4919-a67c-48beb8a17608',\n",
       " 'fee885f0-3934-4fa5-98f4-6c17a8e3a5be',\n",
       " 'e0a4f88d-0617-46a7-add7-b5ef7c77f31b',\n",
       " '53c660fa-48cd-4229-8587-b644bf4a1aa9',\n",
       " 'a5624a9f-7a5a-4a14-b1fe-db9c70a9b600',\n",
       " '81002b7c-a8bc-411a-88ce-008497d63473',\n",
       " '341fb7a9-b3a9-4bd6-b2db-e2fc75c1fffa',\n",
       " 'd13362bf-b249-4b5a-b2aa-941c841417c5',\n",
       " '952080c7-a00e-41d2-8fac-d9e5f26fd1b1',\n",
       " '3cec493d-0a3b-41c5-a505-6e72cd7b58e9',\n",
       " 'ae0fb8ae-488d-4640-983b-36f6c7eed949',\n",
       " '0286927e-0c80-4220-b070-10153aaee46b',\n",
       " '9de5d1ae-1b70-4e95-98ba-781cc5d228a2',\n",
       " '8c1d94bf-8d2f-4840-a704-1990f306e5d0',\n",
       " '5506fd6d-7f68-4133-b1a3-28113e4a3624',\n",
       " '1befcbe6-0313-44d6-aa0c-66f7919f1b7e',\n",
       " '09c1835a-72fd-4338-b515-876cab9fd867',\n",
       " '28076cb2-5b08-4538-847d-1069949305f3',\n",
       " '2f4771a7-fb98-4e62-a23f-4f0cda989c8f',\n",
       " '0507894f-1b9d-4b63-8df0-54d41ea407ac',\n",
       " 'f98a3fca-29c1-4d89-b932-f75502dd9ea5',\n",
       " '2039e6eb-ba6f-42a9-bd20-42c73fe11bc8',\n",
       " '490e4fce-9e4b-460b-af98-ed6326d9341e',\n",
       " '2d4006c2-f367-42a3-b03b-5417312ba4e2',\n",
       " 'e9268348-ad39-4905-81ca-821936fbe0ca',\n",
       " '8328257d-beb7-4123-b0da-dfe0965f22a8',\n",
       " '64a579ed-7070-4190-a1e1-41ccf9e5c743',\n",
       " '8f60b635-f331-4240-a36f-b52180516504',\n",
       " '32581e4b-8cfa-42c2-a9ad-57773c3d3f44',\n",
       " '53b6e6f5-75cd-4019-9fa6-76c603ddaf02',\n",
       " '00c06c08-b500-4f69-8297-47189d810030',\n",
       " 'd7ac06e7-1138-46ee-bb4f-fffbbb6b65d0',\n",
       " '22ddb1dd-0354-44ce-a0c0-7690e17ac1ce',\n",
       " '6156ead4-57f5-4652-80a6-aab1247d38c2']"
      ]
     },
     "execution_count": 30,
     "metadata": {},
     "output_type": "execute_result"
    }
   ],
   "source": [
    "from langchain.vectorstores.faiss import FAISS\n",
    "from langchain.docstore.document import Document\n",
    "document = [Document(page_content=text) for text in texts[:len(embeddings)]]\n",
    "\n",
    "import faiss\n",
    "from langchain_community.docstore.in_memory import InMemoryDocstore\n",
    "from langchain_community.vectorstores import FAISS\n",
    "\n",
    "faiss_index = faiss.IndexFlatL2(dimension)\n",
    "vector_store = FAISS(\n",
    "    embedding_function=generate_embeddings,\n",
    "    index=faiss_index,\n",
    "    docstore=InMemoryDocstore(),\n",
    "    index_to_docstore_id={},\n",
    ")\n",
    "vector_store.add_documents(document)"
   ]
  },
  {
   "cell_type": "code",
   "execution_count": 31,
   "metadata": {},
   "outputs": [],
   "source": [
    "vector_store.save_local(\"faiss_index\")"
   ]
  },
  {
   "cell_type": "code",
   "execution_count": 32,
   "metadata": {},
   "outputs": [],
   "source": [
    "retriver = vector_store.as_retriever(search_kwargs={\"k\": 2})"
   ]
  },
  {
   "cell_type": "markdown",
   "metadata": {},
   "source": [
    "### real use case of langchain\n"
   ]
  },
  {
   "cell_type": "code",
   "execution_count": null,
   "metadata": {},
   "outputs": [],
   "source": [
    "from langchain.chains import RetrievalQA\n",
    "\n",
    "\n",
    "RetrievalQA.from_chain_type(llm,retrival)\n"
   ]
  },
  {
   "cell_type": "code",
   "execution_count": 34,
   "metadata": {},
   "outputs": [
    {
     "name": "stdout",
     "output_type": "stream",
     "text": [
      "In the depths of night, a shimmering portal appears\n",
      "A gateway to the past, erasing all fears\n",
      "Time travel beckons, a journey through the ages\n",
      "A chance to rewrite history's ever-turning pages\n",
      "\n",
      "Step through the portal, feel the rush of the wind\n",
      "As you're whisked away to a time long rescinded\n",
      "The world around you changes, morphing and shifting\n",
      "As you navigate the currents of time, ever drifting\n",
      "\n",
      "Back to the days of knights and chivalry\n",
      "Or forward to a future of technology\n",
      "Time travel grants you the power to explore\n",
      "The mysteries of the past, the unknown of before\n",
      "\n",
      "But beware, traveler, for time is a fickle friend\n",
      "Changing the course of history with every bend\n",
      "The consequences of your actions, unknown and vast\n",
      "As you navigate the currents of time, ever fast\n",
      "\n",
      "So tread carefully, with reverence and care\n",
      "For time travel is a gift, rare and rare\n",
      "A chance to glimpse the world as it once was\n",
      "And marvel at the wonders of time's ever-circling buzz\n",
      "\n",
      "Embrace the journey, embrace the unknown\n",
      "For in the end, time travel is a gift to be shown\n",
      "A chance to learn, to grow, to understand\n",
      "The intricacies of time, the power at hand\n",
      "\n",
      "So step through the portal, embrace the unknown\n",
      "For in the depths of time, a new world is shown\n",
      "A world of magic, of wonder, of delight\n",
      "A world\n"
     ]
    }
   ],
   "source": [
    "from euriai import EuriaiLangChainLLM\n",
    "\n",
    "llm = EuriaiLangChainLLM(\n",
    "    api_key=\"enter_api_key\",\n",
    "    model=\"gpt-3.5-turbo\",\n",
    "    temperature=0,\n",
    "    max_tokens=300\n",
    ")\n",
    "\n",
    "print(llm.invoke(\"Write a poem about time travel.\"))"
   ]
  },
  {
   "cell_type": "code",
   "execution_count": 35,
   "metadata": {},
   "outputs": [],
   "source": [
    "rag_chain = RetrievalQA.from_chain_type(\n",
    "    llm=llm,\n",
    "    retriever = retriver)"
   ]
  },
  {
   "cell_type": "code",
   "execution_count": 36,
   "metadata": {},
   "outputs": [
    {
     "name": "stderr",
     "output_type": "stream",
     "text": [
      "/var/folders/dp/w9766y9x00j7vmxb8b37p1bc0000gp/T/ipykernel_82717/748377218.py:1: LangChainDeprecationWarning: The method `Chain.__call__` was deprecated in langchain 0.1.0 and will be removed in 1.0. Use :meth:`~invoke` instead.\n",
      "  rag_chain(\"who is abhishek\")\n"
     ]
    },
    {
     "data": {
      "text/plain": [
       "{'query': 'who is abhishek',\n",
       " 'result': 'Abhishek Kumar is a person who was born in Jamshedpur, Jharkhand, India, to a family of modest means and faced financial hardship in his early years. He eventually excelled academically and earned a degree in Computer Science and Engineering.'}"
      ]
     },
     "execution_count": 36,
     "metadata": {},
     "output_type": "execute_result"
    }
   ],
   "source": [
    "rag_chain(\"who is abhishek\")"
   ]
  },
  {
   "cell_type": "code",
   "execution_count": 37,
   "metadata": {},
   "outputs": [
    {
     "data": {
      "text/plain": [
       "{'query': 'who is arun', 'result': \"I don't know who Arun is.\"}"
      ]
     },
     "execution_count": 37,
     "metadata": {},
     "output_type": "execute_result"
    }
   ],
   "source": [
    "rag_chain(\"who is arun\")"
   ]
  },
  {
   "cell_type": "code",
   "execution_count": 39,
   "metadata": {},
   "outputs": [
    {
     "name": "stdout",
     "output_type": "stream",
     "text": [
      "{'id': 'chatcmpl-BhDSmK3m6N27HmSPXH8LWjwOQwh9M', 'object': 'chat.completion', 'created': 1749639556, 'model': 'gpt-3.5-turbo', 'choices': [{'index': 0, 'message': {'role': 'assistant', 'content': 'Abhishek is a common Indian given name for males. It means \"divine\" or \"the source of light\" in Sanskrit. It is also the name of a popular Indian actor, Abhishek Bachchan, who works in Hindi films.'}, 'finish_reason': 'stop'}], 'usage': {'prompt_tokens': 12, 'completion_tokens': 52, 'total_tokens': 64}}\n"
     ]
    },
    {
     "data": {
      "text/plain": [
       "'Abhishek is a common Indian given name for males. It means \"divine\" or \"the source of light\" in Sanskrit. It is also the name of a popular Indian actor, Abhishek Bachchan, who works in Hindi films.'"
      ]
     },
     "execution_count": 39,
     "metadata": {},
     "output_type": "execute_result"
    }
   ],
   "source": [
    "generate_response(\"who is abhishek\")"
   ]
  },
  {
   "cell_type": "code",
   "execution_count": 40,
   "metadata": {},
   "outputs": [
    {
     "name": "stdout",
     "output_type": "stream",
     "text": [
      "{'id': 'chatcmpl-BhDT0IeLYHlIA0Ohbu6BE2N5853eh', 'object': 'chat.completion', 'created': 1749639570, 'model': 'gpt-3.5-turbo', 'choices': [{'index': 0, 'message': {'role': 'assistant', 'content': 'There are many individuals named Arun in the world, so it is difficult to determine which specific person you are referring to without more context. Arun is a common Indian name that means \"sun\" in Sanskrit.'}, 'finish_reason': 'stop'}], 'usage': {'prompt_tokens': 11, 'completion_tokens': 44, 'total_tokens': 55}}\n"
     ]
    },
    {
     "data": {
      "text/plain": [
       "'There are many individuals named Arun in the world, so it is difficult to determine which specific person you are referring to without more context. Arun is a common Indian name that means \"sun\" in Sanskrit.'"
      ]
     },
     "execution_count": 40,
     "metadata": {},
     "output_type": "execute_result"
    }
   ],
   "source": [
    "generate_response(\"who is arun\")"
   ]
  },
  {
   "cell_type": "code",
   "execution_count": 41,
   "metadata": {},
   "outputs": [
    {
     "data": {
      "text/plain": [
       "{'query': 'give me the comapny whre abhishek is working',\n",
       " 'result': 'Abhishek has worked with companies like Wipro, Deloitte, Verizon Labs, and Ernst & Young.'}"
      ]
     },
     "execution_count": 41,
     "metadata": {},
     "output_type": "execute_result"
    }
   ],
   "source": [
    "rag_chain(\"give me the comapny whre abhishek is working\")"
   ]
  },
  {
   "cell_type": "code",
   "execution_count": 42,
   "metadata": {},
   "outputs": [
    {
     "data": {
      "text/plain": [
       "{'query': 'what is the name of the company whre abhishek is working',\n",
       " 'result': 'Abhishek has worked at companies like Wipro, Deloitte, Verizon Labs, and Ernst & Young.'}"
      ]
     },
     "execution_count": 42,
     "metadata": {},
     "output_type": "execute_result"
    }
   ],
   "source": [
    "rag_chain(\"what is the name of the company whre abhishek is working\")"
   ]
  },
  {
   "cell_type": "code",
   "execution_count": 43,
   "metadata": {},
   "outputs": [
    {
     "data": {
      "text/plain": [
       "{'query': 'currently where abhishek is working', 'result': 'Ernst & Young'}"
      ]
     },
     "execution_count": 43,
     "metadata": {},
     "output_type": "execute_result"
    }
   ],
   "source": [
    "rag_chain(\"currently where abhishek is working\")"
   ]
  },
  {
   "cell_type": "code",
   "execution_count": null,
   "metadata": {},
   "outputs": [],
   "source": []
  }
 ],
 "metadata": {
  "kernelspec": {
   "display_name": "openai",
   "language": "python",
   "name": "python3"
  },
  "language_info": {
   "codemirror_mode": {
    "name": "ipython",
    "version": 3
   },
   "file_extension": ".py",
   "mimetype": "text/x-python",
   "name": "python",
   "nbconvert_exporter": "python",
   "pygments_lexer": "ipython3",
   "version": "3.10.13"
  }
 },
 "nbformat": 4,
 "nbformat_minor": 2
}
