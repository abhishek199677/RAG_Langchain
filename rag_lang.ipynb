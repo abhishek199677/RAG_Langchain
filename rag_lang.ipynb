{
 "cells": [
  {
   "cell_type": "markdown",
   "metadata": {},
   "source": [
    "### response based on the prompt"
   ]
  },
  {
   "cell_type": "code",
   "execution_count": 101,
   "metadata": {},
   "outputs": [],
   "source": [
    "from langchain.embeddings.base import Embeddings\n",
    "from langchain.llms.base import LLM\n",
    "from typing import List, Dict, Any\n",
    "import requests\n",
    "import numpy as np\n",
    "import faiss\n",
    "import os\n",
    "from dotenv import load_dotenv\n",
    "\n",
    "\n",
    "\n"
   ]
  },
  {
   "cell_type": "markdown",
   "metadata": {},
   "source": [
    "#### euri emdeddings with euri api key (generates the embeddings)"
   ]
  },
  {
   "cell_type": "code",
   "execution_count": 115,
   "metadata": {},
   "outputs": [],
   "source": [
    "import requests\n",
    "import numpy as np\n",
    "\n",
    "def generate_embeddings(text: str) :\n",
    "    url = \"https://api.euron.one/api/v1/euri/alpha/embeddings\"\n",
    "    headers = {\n",
    "        \"Content-Type\": \"application/json\",\n",
    "        \"Authorization\": \"Bearer \"enter_api_key_here_itself\"\n",
    "    }\n",
    "    payload = {\n",
    "        \"input\":text,\n",
    "        \"model\": \"text-embedding-3-small\"\n",
    "    }\n",
    "\n",
    "    response = requests.post(url, headers=headers, json=payload)\n",
    "    data = response.json()\n",
    "    \n",
    "    # Convert to numpy array for vector operations\n",
    "    embedding = np.array(data['data'][0]['embedding'])\n",
    "    \n",
    "    return embedding"
   ]
  },
  {
   "cell_type": "markdown",
   "metadata": {},
   "source": [
    "#### euri chat model (gives the response based on the prompt)"
   ]
  },
  {
   "cell_type": "code",
   "execution_count": 116,
   "metadata": {},
   "outputs": [],
   "source": [
    "\n",
    "from euriai import EuriaiClient\n",
    "def generate_response(prompt):\n",
    "    client = EuriaiClient(\n",
    "        api_key=\"eenter_api_key_here_itself\",\n",
    "        model=\"gpt-4.1-nano\"  \n",
    "    )\n",
    "\n",
    "    response = client.generate_completion(\n",
    "        prompt=prompt,\n",
    "        temperature=0,\n",
    "        max_tokens=300\n",
    "    )\n",
    "\n",
    "    print(response)\n",
    "    return response['choices'][0][\"message\"][\"content\"]"
   ]
  },
  {
   "cell_type": "markdown",
   "metadata": {},
   "source": [
    "#### reading my own knowledge base  (using my own sample/private file )"
   ]
  },
  {
   "cell_type": "code",
   "execution_count": 117,
   "metadata": {},
   "outputs": [
    {
     "data": {
      "text/plain": [
       "[Document(metadata={'source': 'abhishek.txt'}, page_content='Transforming Healthcare for Millions\\nDr. Abhihek vision for affordable healthcare wasn’t just a business plan—it was her lifelong passion. Over the past decade, her company, MediBridge, has impacted over 2 million patients across 25 countries, bringing essential healthcare services and digital consultations to underserved communities. Many of these patients, like Priya herself in her youth, faced barriers to quality care. MediBridge became their bridge to better health and hope for a brighter future.\\n\\nIn 2023, MediBridge was acquired by HealthNext in a landmark deal valued at ₹300 crore. Despite the acquisition, Dr. Priya stayed committed to her cause. MediBridge continued to offer some of the most affordable telemedicine and diagnostics packages in the industry.\\n\\nThe Doctor and Innovator: Abhishek Dual Impact\\nAbhishek journey is not just one of business success; it’s a testament to her dedication as a physician. Throughout her career, he remained a hands-on doctor, always seeking innovative ways to make healthcare accessible. Whether developing AI-powered diagnostic tools or leading community health camps, Abhishek mission has been to simplify healthcare for everyone.\\n\\nHer relentless pursuit of affordable care has earned her the gratitude of thousands. Many credit Priya with saving lives, improving health outcomes, and inspiring a new generation of healthcare professionals.\\n\\nThe Journey\\n\\nEarly Life and the Value of Compassion\\n\\nBreaking Barriers in Medical Education\\n\\nThe Birth of MediBridge: Healthcare for All\\n\\nThe Launch of MedAI: Scaling the Mission\\n\\nEarly Life and the Value of Compassion\\nDr. Abhihek story is one of resilience and empathy, fueled by her belief in the power of compassion. Born in a small town in Rajasthan, India, to a family with limited means, Abhishek childhood was marked by illness in the family and scarce medical resources. he realized early on that access to healthcare could change lives.\\n\\nDespite financial and social hurdles, Priya excelled in academics and earned a scholarship to study medicine. Her experiences as a doctor in rural clinics shaped her understanding of systemic healthcare challenges.\\n\\nDetermined to address these gaps, Priya founded MediBridge in 2015—a digital health platform designed to connect patients with doctors, labs, and pharmacies, regardless of geography or income. Her goal: to make quality healthcare a basic right, not a privilege.\\n\\nMediBridge quickly gained recognition for its low-cost telemedicine services and community outreach. In 2020, the company raised $4 million from a leading healthcare VC, enabling it to expand across Asia and Africa.\\n\\nBuilding on this momentum, Priya launched MedAI, a platform for hospitals and clinics to integrate AI-driven diagnostics and remote monitoring. MedAI offers scalable licenses for organizations, allowing them to provide advanced health analytics to their patients for just 2000 INR per year per license.\\n\\nFor individuals, MedAI Plus provides comprehensive personal health tracking, 24/7 virtual doctor access, and wellness coaching for 3500 INR per year. Abhishek vision: no one should be denied healthcare due to cost or distance.\\n\\nThe MedAI Motto: Health for Everyone, Everywhere\\nAt the core of MedAI’s mission is a simple but powerful belief: Health for Everyone, Everywhere. Dr. Priya Sharma believes that every human deserves access to reliable healthcare, regardless of background or location. This principle drives MedAI’s commitment to making medical technology affordable and accessible for all.\\n\\n')]"
      ]
     },
     "execution_count": 117,
     "metadata": {},
     "output_type": "execute_result"
    }
   ],
   "source": [
    "from langchain.document_loaders import TextLoader\n",
    "\n",
    "document = TextLoader(\"abhishek.txt\").load()\n",
    "document\n",
    "\n",
    "\n",
    "#alterntaive option to read file\n",
    "\n",
    "# with open (\"abhishek.txt\") as file:\n",
    "#     document = file.read()\n",
    "#     print(document)"
   ]
  },
  {
   "cell_type": "markdown",
   "metadata": {},
   "source": [
    "#### converting the above text into chunks/documents"
   ]
  },
  {
   "cell_type": "code",
   "execution_count": 118,
   "metadata": {},
   "outputs": [
    {
     "data": {
      "text/plain": [
       "[Document(metadata={'source': 'abhishek.txt'}, page_content='Transforming Healthcare for Millions'),\n",
       " Document(metadata={'source': 'abhishek.txt'}, page_content='Dr. Abhihek vision for affordable healthcare wasn’t just a business plan—it was her lifelong passion. Over the past decade, her company, MediBridge, has impacted over 2 million patients across 25 countries, bringing essential healthcare services and digital consultations to underserved communities.'),\n",
       " Document(metadata={'source': 'abhishek.txt'}, page_content='to underserved communities. Many of these patients, like Priya herself in her youth, faced barriers to quality care. MediBridge became their bridge to better health and hope for a brighter future.'),\n",
       " Document(metadata={'source': 'abhishek.txt'}, page_content='In 2023, MediBridge was acquired by HealthNext in a landmark deal valued at ₹300 crore. Despite the acquisition, Dr. Priya stayed committed to her cause. MediBridge continued to offer some of the most affordable telemedicine and diagnostics packages in the industry.'),\n",
       " Document(metadata={'source': 'abhishek.txt'}, page_content='The Doctor and Innovator: Abhishek Dual Impact'),\n",
       " Document(metadata={'source': 'abhishek.txt'}, page_content='Abhishek journey is not just one of business success; it’s a testament to her dedication as a physician. Throughout her career, he remained a hands-on doctor, always seeking innovative ways to make healthcare accessible. Whether developing AI-powered diagnostic tools or leading community health'),\n",
       " Document(metadata={'source': 'abhishek.txt'}, page_content='or leading community health camps, Abhishek mission has been to simplify healthcare for everyone.'),\n",
       " Document(metadata={'source': 'abhishek.txt'}, page_content='Her relentless pursuit of affordable care has earned her the gratitude of thousands. Many credit Priya with saving lives, improving health outcomes, and inspiring a new generation of healthcare professionals.\\n\\nThe Journey\\n\\nEarly Life and the Value of Compassion'),\n",
       " Document(metadata={'source': 'abhishek.txt'}, page_content='Breaking Barriers in Medical Education\\n\\nThe Birth of MediBridge: Healthcare for All\\n\\nThe Launch of MedAI: Scaling the Mission'),\n",
       " Document(metadata={'source': 'abhishek.txt'}, page_content='Early Life and the Value of Compassion'),\n",
       " Document(metadata={'source': 'abhishek.txt'}, page_content='Dr. Abhihek story is one of resilience and empathy, fueled by her belief in the power of compassion. Born in a small town in Rajasthan, India, to a family with limited means, Abhishek childhood was marked by illness in the family and scarce medical resources. he realized early on that access to'),\n",
       " Document(metadata={'source': 'abhishek.txt'}, page_content='early on that access to healthcare could change lives.'),\n",
       " Document(metadata={'source': 'abhishek.txt'}, page_content='Despite financial and social hurdles, Priya excelled in academics and earned a scholarship to study medicine. Her experiences as a doctor in rural clinics shaped her understanding of systemic healthcare challenges.'),\n",
       " Document(metadata={'source': 'abhishek.txt'}, page_content='Determined to address these gaps, Priya founded MediBridge in 2015—a digital health platform designed to connect patients with doctors, labs, and pharmacies, regardless of geography or income. Her goal: to make quality healthcare a basic right, not a privilege.'),\n",
       " Document(metadata={'source': 'abhishek.txt'}, page_content='MediBridge quickly gained recognition for its low-cost telemedicine services and community outreach. In 2020, the company raised $4 million from a leading healthcare VC, enabling it to expand across Asia and Africa.'),\n",
       " Document(metadata={'source': 'abhishek.txt'}, page_content='Building on this momentum, Priya launched MedAI, a platform for hospitals and clinics to integrate AI-driven diagnostics and remote monitoring. MedAI offers scalable licenses for organizations, allowing them to provide advanced health analytics to their patients for just 2000 INR per year per'),\n",
       " Document(metadata={'source': 'abhishek.txt'}, page_content='just 2000 INR per year per license.'),\n",
       " Document(metadata={'source': 'abhishek.txt'}, page_content='For individuals, MedAI Plus provides comprehensive personal health tracking, 24/7 virtual doctor access, and wellness coaching for 3500 INR per year. Abhishek vision: no one should be denied healthcare due to cost or distance.'),\n",
       " Document(metadata={'source': 'abhishek.txt'}, page_content='The MedAI Motto: Health for Everyone, Everywhere'),\n",
       " Document(metadata={'source': 'abhishek.txt'}, page_content='At the core of MedAI’s mission is a simple but powerful belief: Health for Everyone, Everywhere. Dr. Priya Sharma believes that every human deserves access to reliable healthcare, regardless of background or location. This principle drives MedAI’s commitment to making medical technology affordable'),\n",
       " Document(metadata={'source': 'abhishek.txt'}, page_content='medical technology affordable and accessible for all.')]"
      ]
     },
     "execution_count": 118,
     "metadata": {},
     "output_type": "execute_result"
    }
   ],
   "source": [
    "from langchain.text_splitter import RecursiveCharacterTextSplitter\n",
    "\n",
    "splitter = RecursiveCharacterTextSplitter(chunk_size=300, chunk_overlap=30)\n",
    "docs = splitter.split_documents(document)\n",
    "docs"
   ]
  },
  {
   "cell_type": "code",
   "execution_count": 119,
   "metadata": {},
   "outputs": [
    {
     "data": {
      "text/plain": [
       "21"
      ]
     },
     "execution_count": 119,
     "metadata": {},
     "output_type": "execute_result"
    }
   ],
   "source": [
    "len(docs)"
   ]
  },
  {
   "cell_type": "code",
   "execution_count": 120,
   "metadata": {},
   "outputs": [
    {
     "name": "stdout",
     "output_type": "stream",
     "text": [
      "[36, 299, 196, 266, 46, 295, 97, 261, 125, 38, 295, 54, 214, 261, 215, 293, 35, 226, 48, 298, 53]\n"
     ]
    }
   ],
   "source": [
    "lengths = []  \n",
    "\n",
    "for doc in docs:\n",
    "    content_length = len(doc.page_content) \n",
    "    lengths.append(content_length)         \n",
    "\n",
    "print(lengths)  "
   ]
  },
  {
   "cell_type": "code",
   "execution_count": 121,
   "metadata": {},
   "outputs": [
    {
     "data": {
      "text/plain": [
       "'Transforming Healthcare for Millions'"
      ]
     },
     "execution_count": 121,
     "metadata": {},
     "output_type": "execute_result"
    }
   ],
   "source": [
    "docs[0].page_content"
   ]
  },
  {
   "cell_type": "code",
   "execution_count": 122,
   "metadata": {},
   "outputs": [
    {
     "data": {
      "text/plain": [
       "36"
      ]
     },
     "execution_count": 122,
     "metadata": {},
     "output_type": "execute_result"
    }
   ],
   "source": [
    "len(docs[0].page_content)"
   ]
  },
  {
   "cell_type": "code",
   "execution_count": 123,
   "metadata": {},
   "outputs": [
    {
     "data": {
      "text/plain": [
       "'medical technology affordable and accessible for all.'"
      ]
     },
     "execution_count": 123,
     "metadata": {},
     "output_type": "execute_result"
    }
   ],
   "source": [
    "docs[20].page_content\n"
   ]
  },
  {
   "cell_type": "markdown",
   "metadata": {},
   "source": [
    "#### converting the entire documents into one single list for the embedding purpose"
   ]
  },
  {
   "cell_type": "code",
   "execution_count": 124,
   "metadata": {},
   "outputs": [
    {
     "data": {
      "text/plain": [
       "['Transforming Healthcare for Millions',\n",
       " 'Dr. Abhihek vision for affordable healthcare wasn’t just a business plan—it was her lifelong passion. Over the past decade, her company, MediBridge, has impacted over 2 million patients across 25 countries, bringing essential healthcare services and digital consultations to underserved communities.',\n",
       " 'to underserved communities. Many of these patients, like Priya herself in her youth, faced barriers to quality care. MediBridge became their bridge to better health and hope for a brighter future.',\n",
       " 'In 2023, MediBridge was acquired by HealthNext in a landmark deal valued at ₹300 crore. Despite the acquisition, Dr. Priya stayed committed to her cause. MediBridge continued to offer some of the most affordable telemedicine and diagnostics packages in the industry.',\n",
       " 'The Doctor and Innovator: Abhishek Dual Impact',\n",
       " 'Abhishek journey is not just one of business success; it’s a testament to her dedication as a physician. Throughout her career, he remained a hands-on doctor, always seeking innovative ways to make healthcare accessible. Whether developing AI-powered diagnostic tools or leading community health',\n",
       " 'or leading community health camps, Abhishek mission has been to simplify healthcare for everyone.',\n",
       " 'Her relentless pursuit of affordable care has earned her the gratitude of thousands. Many credit Priya with saving lives, improving health outcomes, and inspiring a new generation of healthcare professionals.\\n\\nThe Journey\\n\\nEarly Life and the Value of Compassion',\n",
       " 'Breaking Barriers in Medical Education\\n\\nThe Birth of MediBridge: Healthcare for All\\n\\nThe Launch of MedAI: Scaling the Mission',\n",
       " 'Early Life and the Value of Compassion',\n",
       " 'Dr. Abhihek story is one of resilience and empathy, fueled by her belief in the power of compassion. Born in a small town in Rajasthan, India, to a family with limited means, Abhishek childhood was marked by illness in the family and scarce medical resources. he realized early on that access to',\n",
       " 'early on that access to healthcare could change lives.',\n",
       " 'Despite financial and social hurdles, Priya excelled in academics and earned a scholarship to study medicine. Her experiences as a doctor in rural clinics shaped her understanding of systemic healthcare challenges.',\n",
       " 'Determined to address these gaps, Priya founded MediBridge in 2015—a digital health platform designed to connect patients with doctors, labs, and pharmacies, regardless of geography or income. Her goal: to make quality healthcare a basic right, not a privilege.',\n",
       " 'MediBridge quickly gained recognition for its low-cost telemedicine services and community outreach. In 2020, the company raised $4 million from a leading healthcare VC, enabling it to expand across Asia and Africa.',\n",
       " 'Building on this momentum, Priya launched MedAI, a platform for hospitals and clinics to integrate AI-driven diagnostics and remote monitoring. MedAI offers scalable licenses for organizations, allowing them to provide advanced health analytics to their patients for just 2000 INR per year per',\n",
       " 'just 2000 INR per year per license.',\n",
       " 'For individuals, MedAI Plus provides comprehensive personal health tracking, 24/7 virtual doctor access, and wellness coaching for 3500 INR per year. Abhishek vision: no one should be denied healthcare due to cost or distance.',\n",
       " 'The MedAI Motto: Health for Everyone, Everywhere',\n",
       " 'At the core of MedAI’s mission is a simple but powerful belief: Health for Everyone, Everywhere. Dr. Priya Sharma believes that every human deserves access to reliable healthcare, regardless of background or location. This principle drives MedAI’s commitment to making medical technology affordable',\n",
       " 'medical technology affordable and accessible for all.']"
      ]
     },
     "execution_count": 124,
     "metadata": {},
     "output_type": "execute_result"
    }
   ],
   "source": [
    "texts = [doc.page_content for doc in docs]\n",
    "texts"
   ]
  },
  {
   "cell_type": "markdown",
   "metadata": {},
   "source": [
    "### converting into embeddings"
   ]
  },
  {
   "cell_type": "code",
   "execution_count": 125,
   "metadata": {},
   "outputs": [],
   "source": [
    "embeddings = [generate_embeddings(i) for i in texts]"
   ]
  },
  {
   "cell_type": "code",
   "execution_count": 126,
   "metadata": {},
   "outputs": [
    {
     "data": {
      "text/plain": [
       "array([ 0.01690955, -0.02679409, -0.00042851, ...,  0.0048325 ,\n",
       "        0.02119885,  0.00627635])"
      ]
     },
     "execution_count": 126,
     "metadata": {},
     "output_type": "execute_result"
    }
   ],
   "source": [
    "generate_embeddings(\"my name is abhishek\")\n"
   ]
  },
  {
   "cell_type": "code",
   "execution_count": 127,
   "metadata": {},
   "outputs": [
    {
     "data": {
      "text/plain": [
       "array([ 0.02032711,  0.01127243,  0.01497341, ...,  0.01415411,\n",
       "       -0.01671089, -0.00123601])"
      ]
     },
     "execution_count": 127,
     "metadata": {},
     "output_type": "execute_result"
    }
   ],
   "source": [
    "generate_embeddings(\"This is a test input.\")\n"
   ]
  },
  {
   "cell_type": "markdown",
   "metadata": {},
   "source": [
    "## creating embeddings\n",
    "\n",
    "#### -> The code processes the first 8 texts from a list.\n",
    "#### -> It skips empty or whitespace-only texts.\n",
    "#### -> For each valid text, it generates an embedding and stores both the embedding and the original text.\n",
    "#### -> It provides progress updates with partial text and embedding information.\n"
   ]
  },
  {
   "cell_type": "code",
   "execution_count": 129,
   "metadata": {},
   "outputs": [
    {
     "name": "stdout",
     "output_type": "stream",
     "text": [
      "Processed 1/21: Transforming Healthcare for Mi... -> [ 0.01975284  0.00706196  0.06248612  0.05396529 -0.00056079]\n",
      "Processed 2/21: Dr. Abhihek vision for afforda... -> [ 0.04272165 -0.02653647  0.06613466  0.05952636 -0.01937317]\n",
      "Processed 3/21: to underserved communities. Ma... -> [ 0.0399706  -0.02989491  0.03689807  0.09455648 -0.00435275]\n",
      "Processed 4/21: In 2023, MediBridge was acquir... -> [-0.00016461 -0.05070317  0.05668828  0.03727315  0.00365554]\n",
      "Processed 5/21: The Doctor and Innovator: Abhi... -> [ 0.05285941 -0.0049322   0.01850229  0.03784219 -0.00155183]\n",
      "Processed 6/21: Abhishek journey is not just o... -> [ 0.03138234 -0.01424949  0.06477275  0.0695612  -0.00469191]\n",
      "Processed 7/21: or leading community health ca... -> [ 0.02485341 -0.01517221  0.06724305  0.05653619 -0.01015025]\n",
      "Processed 8/21: Her relentless pursuit of affo... -> [ 0.05266743 -0.05771006  0.03395368  0.09261624  0.01680876]\n"
     ]
    }
   ],
   "source": [
    "embeddings  = []\n",
    "valid_texts = []\n",
    "\n",
    "for i ,text in enumerate(texts[0:8]):\n",
    "    clean_text = text.strip()   #cleaning the text\n",
    "    if not clean_text:    # checking if the text is empty\n",
    "        print(f\"Skipping empty text at index {i}\")\n",
    "        continue\n",
    "    embedding = generate_embeddings(text)  #this is where the embeddings are generated\n",
    "    embeddings.append(embedding)\n",
    "    valid_texts.append(text)\n",
    "    print(f\"Processed {i+1}/{len(texts)}: {text[:30]}... -> {embedding[:5]}\")  # Print first 30 characters of text and first 5 elements of embedding"
   ]
  },
  {
   "cell_type": "code",
   "execution_count": 130,
   "metadata": {},
   "outputs": [
    {
     "data": {
      "text/plain": [
       "[array([ 0.01975284,  0.00706196,  0.06248612, ...,  0.0012168 ,\n",
       "        -0.0383954 ,  0.00827554]),\n",
       " array([ 0.04272165, -0.02653647,  0.06613466, ...,  0.02094781,\n",
       "         0.00125116,  0.01863748]),\n",
       " array([ 0.0399706 , -0.02989491,  0.03689807, ...,  0.03487739,\n",
       "        -0.01369491, -0.00535271]),\n",
       " array([-0.00016461, -0.05070317,  0.05668828, ...,  0.01407475,\n",
       "         0.02353902,  0.01184858]),\n",
       " array([ 0.05285941, -0.0049322 ,  0.01850229, ..., -0.04810296,\n",
       "         0.01236976,  0.01800869]),\n",
       " array([ 0.03138234, -0.01424949,  0.06477275, ...,  0.00106839,\n",
       "        -0.00430252,  0.02212726]),\n",
       " array([ 0.02485341, -0.01517221,  0.06724305, ...,  0.02379023,\n",
       "        -0.0075048 ,  0.0479557 ]),\n",
       " array([ 0.05266743, -0.05771006,  0.03395368, ...,  0.01603835,\n",
       "         0.00143225, -0.01122685])]"
      ]
     },
     "execution_count": 130,
     "metadata": {},
     "output_type": "execute_result"
    }
   ],
   "source": [
    "embeddings"
   ]
  },
  {
   "cell_type": "code",
   "execution_count": 131,
   "metadata": {},
   "outputs": [
    {
     "data": {
      "text/plain": [
       "array([ 0.01975284,  0.00706196,  0.06248612, ...,  0.0012168 ,\n",
       "       -0.0383954 ,  0.00827554])"
      ]
     },
     "execution_count": 131,
     "metadata": {},
     "output_type": "execute_result"
    }
   ],
   "source": [
    "embeddings[0]"
   ]
  },
  {
   "cell_type": "code",
   "execution_count": 132,
   "metadata": {},
   "outputs": [
    {
     "data": {
      "text/plain": [
       "[Document(metadata={'source': 'abhishek.txt'}, page_content='Transforming Healthcare for Millions'),\n",
       " Document(metadata={'source': 'abhishek.txt'}, page_content='Dr. Abhihek vision for affordable healthcare wasn’t just a business plan—it was her lifelong passion. Over the past decade, her company, MediBridge, has impacted over 2 million patients across 25 countries, bringing essential healthcare services and digital consultations to underserved communities.'),\n",
       " Document(metadata={'source': 'abhishek.txt'}, page_content='to underserved communities. Many of these patients, like Priya herself in her youth, faced barriers to quality care. MediBridge became their bridge to better health and hope for a brighter future.'),\n",
       " Document(metadata={'source': 'abhishek.txt'}, page_content='In 2023, MediBridge was acquired by HealthNext in a landmark deal valued at ₹300 crore. Despite the acquisition, Dr. Priya stayed committed to her cause. MediBridge continued to offer some of the most affordable telemedicine and diagnostics packages in the industry.'),\n",
       " Document(metadata={'source': 'abhishek.txt'}, page_content='The Doctor and Innovator: Abhishek Dual Impact'),\n",
       " Document(metadata={'source': 'abhishek.txt'}, page_content='Abhishek journey is not just one of business success; it’s a testament to her dedication as a physician. Throughout her career, he remained a hands-on doctor, always seeking innovative ways to make healthcare accessible. Whether developing AI-powered diagnostic tools or leading community health'),\n",
       " Document(metadata={'source': 'abhishek.txt'}, page_content='or leading community health camps, Abhishek mission has been to simplify healthcare for everyone.'),\n",
       " Document(metadata={'source': 'abhishek.txt'}, page_content='Her relentless pursuit of affordable care has earned her the gratitude of thousands. Many credit Priya with saving lives, improving health outcomes, and inspiring a new generation of healthcare professionals.\\n\\nThe Journey\\n\\nEarly Life and the Value of Compassion'),\n",
       " Document(metadata={'source': 'abhishek.txt'}, page_content='Breaking Barriers in Medical Education\\n\\nThe Birth of MediBridge: Healthcare for All\\n\\nThe Launch of MedAI: Scaling the Mission'),\n",
       " Document(metadata={'source': 'abhishek.txt'}, page_content='Early Life and the Value of Compassion')]"
      ]
     },
     "execution_count": 132,
     "metadata": {},
     "output_type": "execute_result"
    }
   ],
   "source": [
    "docs[0:10]"
   ]
  },
  {
   "cell_type": "markdown",
   "metadata": {},
   "source": [
    "### storing embeddings into vector database"
   ]
  },
  {
   "cell_type": "code",
   "execution_count": 145,
   "metadata": {},
   "outputs": [],
   "source": [
    "import faiss\n",
    "from langchain.vectorstores.faiss import FAISS\n",
    "from langchain.docstore.document import Document\n",
    "\n",
    "\n",
    "dimension = embeddings[0].shape[0]\n",
    "\n",
    "\n",
    "faiss_index = faiss.IndexFlatL2(dimension)\n",
    "faiss_index.add(np.array(embeddings).astype('float32'))"
   ]
  },
  {
   "cell_type": "code",
   "execution_count": 146,
   "metadata": {},
   "outputs": [
    {
     "name": "stdout",
     "output_type": "stream",
     "text": [
      "{'id': 'chatcmpl-Bhxe0liICoCZAvJh1KyOjOgcv4LuP', 'object': 'chat.completion', 'created': 1749817076, 'model': 'gpt-4.1-nano', 'choices': [{'index': 0, 'message': {'role': 'assistant', 'content': 'Certainly! \"Abhishek\" is a common male given name in India and other parts of South Asia. It is derived from Sanskrit, meaning \"anointing\" or \"consecration,\" often associated with religious rituals and ceremonies where a deity or person is anointed with sacred substances. The name symbolizes purity, blessing, and auspiciousness.\\n\\nMany individuals named Abhishek have achieved recognition in various fields such as entertainment, sports, politics, and business. If you are referring to a specific person named Abhishek, please provide more context or details so I can offer more targeted information.'}, 'finish_reason': 'stop'}], 'usage': {'prompt_tokens': 13, 'completion_tokens': 122, 'total_tokens': 135}}\n"
     ]
    },
    {
     "data": {
      "text/plain": [
       "'Certainly! \"Abhishek\" is a common male given name in India and other parts of South Asia. It is derived from Sanskrit, meaning \"anointing\" or \"consecration,\" often associated with religious rituals and ceremonies where a deity or person is anointed with sacred substances. The name symbolizes purity, blessing, and auspiciousness.\\n\\nMany individuals named Abhishek have achieved recognition in various fields such as entertainment, sports, politics, and business. If you are referring to a specific person named Abhishek, please provide more context or details so I can offer more targeted information.'"
      ]
     },
     "execution_count": 146,
     "metadata": {},
     "output_type": "execute_result"
    }
   ],
   "source": [
    "generate_response(\"tell me about abhishek\")"
   ]
  },
  {
   "cell_type": "code",
   "execution_count": 138,
   "metadata": {},
   "outputs": [],
   "source": [
    "document = [Document(page_content=text) for text in texts[:len(embeddings)]]"
   ]
  },
  {
   "cell_type": "code",
   "execution_count": 139,
   "metadata": {},
   "outputs": [
    {
     "data": {
      "text/plain": [
       "[Document(metadata={}, page_content='Transforming Healthcare for Millions'),\n",
       " Document(metadata={}, page_content='Dr. Abhihek vision for affordable healthcare wasn’t just a business plan—it was her lifelong passion. Over the past decade, her company, MediBridge, has impacted over 2 million patients across 25 countries, bringing essential healthcare services and digital consultations to underserved communities.'),\n",
       " Document(metadata={}, page_content='to underserved communities. Many of these patients, like Priya herself in her youth, faced barriers to quality care. MediBridge became their bridge to better health and hope for a brighter future.'),\n",
       " Document(metadata={}, page_content='In 2023, MediBridge was acquired by HealthNext in a landmark deal valued at ₹300 crore. Despite the acquisition, Dr. Priya stayed committed to her cause. MediBridge continued to offer some of the most affordable telemedicine and diagnostics packages in the industry.'),\n",
       " Document(metadata={}, page_content='The Doctor and Innovator: Abhishek Dual Impact'),\n",
       " Document(metadata={}, page_content='Abhishek journey is not just one of business success; it’s a testament to her dedication as a physician. Throughout her career, he remained a hands-on doctor, always seeking innovative ways to make healthcare accessible. Whether developing AI-powered diagnostic tools or leading community health'),\n",
       " Document(metadata={}, page_content='or leading community health camps, Abhishek mission has been to simplify healthcare for everyone.'),\n",
       " Document(metadata={}, page_content='Her relentless pursuit of affordable care has earned her the gratitude of thousands. Many credit Priya with saving lives, improving health outcomes, and inspiring a new generation of healthcare professionals.\\n\\nThe Journey\\n\\nEarly Life and the Value of Compassion')]"
      ]
     },
     "execution_count": 139,
     "metadata": {},
     "output_type": "execute_result"
    }
   ],
   "source": [
    "document"
   ]
  },
  {
   "cell_type": "code",
   "execution_count": 140,
   "metadata": {},
   "outputs": [
    {
     "data": {
      "text/plain": [
       "[array([ 0.01975284,  0.00706196,  0.06248612, ...,  0.0012168 ,\n",
       "        -0.0383954 ,  0.00827554]),\n",
       " array([ 0.04272165, -0.02653647,  0.06613466, ...,  0.02094781,\n",
       "         0.00125116,  0.01863748]),\n",
       " array([ 0.0399706 , -0.02989491,  0.03689807, ...,  0.03487739,\n",
       "        -0.01369491, -0.00535271]),\n",
       " array([-0.00016461, -0.05070317,  0.05668828, ...,  0.01407475,\n",
       "         0.02353902,  0.01184858]),\n",
       " array([ 0.05285941, -0.0049322 ,  0.01850229, ..., -0.04810296,\n",
       "         0.01236976,  0.01800869]),\n",
       " array([ 0.03138234, -0.01424949,  0.06477275, ...,  0.00106839,\n",
       "        -0.00430252,  0.02212726]),\n",
       " array([ 0.02485341, -0.01517221,  0.06724305, ...,  0.02379023,\n",
       "        -0.0075048 ,  0.0479557 ]),\n",
       " array([ 0.05266743, -0.05771006,  0.03395368, ...,  0.01603835,\n",
       "         0.00143225, -0.01122685])]"
      ]
     },
     "execution_count": 140,
     "metadata": {},
     "output_type": "execute_result"
    }
   ],
   "source": [
    "embeddings"
   ]
  },
  {
   "cell_type": "markdown",
   "metadata": {},
   "source": [
    "### creates a vector store using FAISS (a similarity search library) integrated with LangChain, to store and search document embeddings"
   ]
  },
  {
   "cell_type": "code",
   "execution_count": 149,
   "metadata": {},
   "outputs": [
    {
     "name": "stderr",
     "output_type": "stream",
     "text": [
      "`embedding_function` is expected to be an Embeddings object, support for passing in a function will soon be removed.\n"
     ]
    },
    {
     "data": {
      "text/plain": [
       "['3e3fd279-ba5d-4485-95f0-907c1d17cf99',\n",
       " 'a3d3e10d-0c5b-450f-9778-916601bde413',\n",
       " 'bfdd53d8-d087-4efe-8297-3fc8ea197b5e',\n",
       " 'eb7782ca-a180-48f4-a266-9cf4b45cdefe',\n",
       " 'aeabf861-c84e-4fb1-b269-c145caffc252',\n",
       " '6be5aad3-1667-4828-8cb9-55c662eb60a4',\n",
       " '1b21b479-aef5-407c-b103-df1cf84151f1',\n",
       " 'f6f87c44-071a-4d50-9459-b401e1a1c1b9']"
      ]
     },
     "execution_count": 149,
     "metadata": {},
     "output_type": "execute_result"
    }
   ],
   "source": [
    "from langchain.vectorstores.faiss import FAISS\n",
    "from langchain.docstore.document import Document\n",
    "\n",
    "document = [Document(page_content=text) for text in texts[:len(embeddings)]]  # Creating Document objects\n",
    "\n",
    "import faiss\n",
    "from langchain_community.docstore.in_memory import InMemoryDocstore\n",
    "from langchain_community.vectorstores import FAISS\n",
    "\n",
    "faiss_index = faiss.IndexFlatL2(dimension)  #Initializing FAISS index\n",
    "\n",
    "# Creating a FAISS vector store\n",
    "vector_store = FAISS(\n",
    "    embedding_function= generate_embeddings,\n",
    "    index= faiss_index,\n",
    "    docstore= InMemoryDocstore(),  #memory store to keep track of documents\n",
    "    index_to_docstore_id={},  # A mapping between FAISS index IDs and document IDs \n",
    ")\n",
    "\n",
    "vector_store.add_documents(document)   # Adding documents to the vector store"
   ]
  },
  {
   "cell_type": "code",
   "execution_count": 150,
   "metadata": {},
   "outputs": [],
   "source": [
    "vector_store.save_local(\"faiss_index\")"
   ]
  },
  {
   "cell_type": "code",
   "execution_count": 152,
   "metadata": {},
   "outputs": [],
   "source": [
    "retriver = vector_store.as_retriever(search_kwargs={\"k\": 2})  # Retrieving top 2 documents"
   ]
  },
  {
   "cell_type": "markdown",
   "metadata": {},
   "source": [
    "### real use case of langchain\n"
   ]
  },
  {
   "cell_type": "code",
   "execution_count": 159,
   "metadata": {},
   "outputs": [
    {
     "name": "stdout",
     "output_type": "stream",
     "text": [
      "In whispers of the ticking clock’s embrace,  \n",
      "A journey threads through time’s uncharted space,  \n",
      "Where past and future dance in silent grace,  \n",
      "And moments fold within a fleeting trace.\n",
      "\n",
      "A whisper of the bygone days gone by,  \n",
      "Echoes of laughter, tears that once did flow,  \n",
      "A glimpse of dreams that in the shadows lie,  \n",
      "Reminding us of all we used to know.\n",
      "\n",
      "Through swirling mists of what might yet be,  \n",
      "We chase the echoes of eternity,  \n",
      "A fleeting glimpse of what’s to come,  \n",
      "A fleeting beat of time’s relentless drum.\n",
      "\n",
      "Yet in each tick, a mystery unfurls,  \n",
      "A chance to change the course of worlds,  \n",
      "To hold the past, embrace the now,  \n",
      "And shape the future’s silent vow.\n",
      "\n",
      "Time travel’s art, both wondrous and wise,  \n",
      "A voyage through the endless skies,  \n",
      "Where moments merge and stories blend,  \n",
      "A dance with time—no beginning, no end.\n"
     ]
    }
   ],
   "source": [
    "from euriai import EuriaiLangChainLLM\n",
    "from dotenv import load_dotenv\n",
    "import os\n",
    "\n",
    "load_dotenv() \n",
    "\n",
    "llm = EuriaiLangChainLLM(\n",
    "    api_key = os.getenv(\"EURI_API_KEY\"),\n",
    "    model=\"gpt-4.1-nano\",\n",
    "    temperature=0,\n",
    "    max_tokens=300\n",
    ")\n",
    "\n",
    "print(llm.invoke(\"Write a poem about time travel.\"))"
   ]
  },
  {
   "cell_type": "code",
   "execution_count": 161,
   "metadata": {},
   "outputs": [],
   "source": [
    "rag_chain = RetrievalQA.from_chain_type(\n",
    "    llm=llm,\n",
    "    retriever = retriver)"
   ]
  },
  {
   "cell_type": "code",
   "execution_count": 162,
   "metadata": {},
   "outputs": [
    {
     "name": "stderr",
     "output_type": "stream",
     "text": [
      "/var/folders/dp/w9766y9x00j7vmxb8b37p1bc0000gp/T/ipykernel_91481/748377218.py:1: LangChainDeprecationWarning: The method `Chain.__call__` was deprecated in langchain 0.1.0 and will be removed in 1.0. Use :meth:`~invoke` instead.\n",
      "  rag_chain(\"who is abhishek\")\n"
     ]
    },
    {
     "data": {
      "text/plain": [
       "{'query': 'who is abhishek',\n",
       " 'result': 'Based on the provided context, Abhishek is a physician who is dedicated to making healthcare accessible. She has been actively involved in developing AI-powered diagnostic tools and leading community health camps to simplify healthcare for everyone.'}"
      ]
     },
     "execution_count": 162,
     "metadata": {},
     "output_type": "execute_result"
    }
   ],
   "source": [
    "rag_chain(\"who is abhishek\")"
   ]
  },
  {
   "cell_type": "code",
   "execution_count": 164,
   "metadata": {},
   "outputs": [
    {
     "data": {
      "text/plain": [
       "{'query': 'who is arun',\n",
       " 'result': \"I don't have information about who Arun is based on the provided context.\"}"
      ]
     },
     "execution_count": 164,
     "metadata": {},
     "output_type": "execute_result"
    }
   ],
   "source": [
    "rag_chain(\"who is arun\")"
   ]
  },
  {
   "cell_type": "code",
   "execution_count": 165,
   "metadata": {},
   "outputs": [
    {
     "name": "stdout",
     "output_type": "stream",
     "text": [
      "{'id': 'chatcmpl-BhxpqMJAZGUDmbL4hDrrjGwPjRGRt', 'object': 'chat.completion', 'created': 1749817810, 'model': 'gpt-4.1-nano', 'choices': [{'index': 0, 'message': {'role': 'assistant', 'content': '\"Abhishek\" is a common given name in India and other South Asian countries, typically used for males. It means \"anointed\" or \"ritually blessed\" in Sanskrit. Without additional context, it\\'s difficult to identify a specific individual named Abhishek. Could you please provide more details or specify which Abhishek you are referring to?'}, 'finish_reason': 'stop'}], 'usage': {'prompt_tokens': 12, 'completion_tokens': 71, 'total_tokens': 83}}\n"
     ]
    },
    {
     "data": {
      "text/plain": [
       "'\"Abhishek\" is a common given name in India and other South Asian countries, typically used for males. It means \"anointed\" or \"ritually blessed\" in Sanskrit. Without additional context, it\\'s difficult to identify a specific individual named Abhishek. Could you please provide more details or specify which Abhishek you are referring to?'"
      ]
     },
     "execution_count": 165,
     "metadata": {},
     "output_type": "execute_result"
    }
   ],
   "source": [
    "generate_response(\"who is abhishek\")"
   ]
  },
  {
   "cell_type": "code",
   "execution_count": 166,
   "metadata": {},
   "outputs": [
    {
     "name": "stdout",
     "output_type": "stream",
     "text": [
      "{'id': 'chatcmpl-Bhxpz9a4CIsQFElaZfUC2445qqfyK', 'object': 'chat.completion', 'created': 1749817819, 'model': 'gpt-4.1-nano', 'choices': [{'index': 0, 'message': {'role': 'assistant', 'content': '\"Arun\" is a common given name in several cultures, particularly in India, where it is often used for males and means \"sun\" or \"dawn\" in Sanskrit. Without additional context, it\\'s difficult to identify a specific individual named Arun. Could you please provide more details or specify which Arun you are referring to?'}, 'finish_reason': 'stop'}], 'usage': {'prompt_tokens': 11, 'completion_tokens': 66, 'total_tokens': 77}}\n"
     ]
    },
    {
     "data": {
      "text/plain": [
       "'\"Arun\" is a common given name in several cultures, particularly in India, where it is often used for males and means \"sun\" or \"dawn\" in Sanskrit. Without additional context, it\\'s difficult to identify a specific individual named Arun. Could you please provide more details or specify which Arun you are referring to?'"
      ]
     },
     "execution_count": 166,
     "metadata": {},
     "output_type": "execute_result"
    }
   ],
   "source": [
    "generate_response(\"who is arun\")"
   ]
  },
  {
   "cell_type": "code",
   "execution_count": null,
   "metadata": {},
   "outputs": [],
   "source": [
    "rag_chain(\"give me the comapny whre abhishek is working\")"
   ]
  },
  {
   "cell_type": "code",
   "execution_count": null,
   "metadata": {},
   "outputs": [],
   "source": [
    "rag_chain(\"what is the name of the company whre abhishek is working\")"
   ]
  },
  {
   "cell_type": "code",
   "execution_count": null,
   "metadata": {},
   "outputs": [],
   "source": [
    "rag_chain(\"currently where abhishek is working\")"
   ]
  },
  {
   "cell_type": "code",
   "execution_count": null,
   "metadata": {},
   "outputs": [],
   "source": []
  },
  {
   "cell_type": "code",
   "execution_count": null,
   "metadata": {},
   "outputs": [],
   "source": []
  },
  {
   "cell_type": "code",
   "execution_count": null,
   "metadata": {},
   "outputs": [],
   "source": []
  },
  {
   "cell_type": "code",
   "execution_count": null,
   "metadata": {},
   "outputs": [],
   "source": []
  },
  {
   "cell_type": "code",
   "execution_count": null,
   "metadata": {},
   "outputs": [],
   "source": []
  }
 ],
 "metadata": {
  "kernelspec": {
   "display_name": "openai",
   "language": "python",
   "name": "python3"
  },
  "language_info": {
   "codemirror_mode": {
    "name": "ipython",
    "version": 3
   },
   "file_extension": ".py",
   "mimetype": "text/x-python",
   "name": "python",
   "nbconvert_exporter": "python",
   "pygments_lexer": "ipython3",
   "version": "3.10.13"
  }
 },
 "nbformat": 4,
 "nbformat_minor": 2
}
